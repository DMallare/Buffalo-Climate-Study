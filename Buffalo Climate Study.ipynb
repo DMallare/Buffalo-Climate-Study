{
 "cells": [
  {
   "cell_type": "markdown",
   "metadata": {},
   "source": [
    "# Buffalo Climate Study"
   ]
  },
  {
   "cell_type": "markdown",
   "metadata": {},
   "source": [
    "## Introduction"
   ]
  },
  {
   "cell_type": "markdown",
   "metadata": {},
   "source": [
    "The following is a first look at climate data for Buffalo, NY. The purpose of this study is to gain a first impression of overall trends in yearly average summer and winter temperatures and yearly snowfall. \n",
    "\n",
    "All datasets are from NOAA, the National Oceanic and Atmospheric Administration"
   ]
  },
  {
   "cell_type": "code",
   "execution_count": 1,
   "metadata": {
    "collapsed": true
   },
   "outputs": [],
   "source": [
    "import pandas as pd\n",
    "import numpy as np\n",
    "import matplotlib.pyplot as plt\n",
    "import seaborn as sns"
   ]
  },
  {
   "cell_type": "markdown",
   "metadata": {},
   "source": [
    "## Yearly Snowfall"
   ]
  },
  {
   "cell_type": "markdown",
   "metadata": {},
   "source": [
    "To begin my study of climate change in Buffalo, I obtained yearly snowfall totals from NOAA."
   ]
  },
  {
   "cell_type": "code",
   "execution_count": 2,
   "metadata": {},
   "outputs": [
    {
     "name": "stdout",
     "output_type": "stream",
     "text": [
      "    SEASON  JUL  AUG SEP  OCT   NOV   DEC   JAN   FEB   MAR  APR MAY  JUN  \\\n",
      "0  1940-41    0    0   0    T  17.5  12.1  17.3  23.1   9.3    T   0  0.0   \n",
      "1  1941-42    0    0   0    T     5   7.8  31.0  28.0  13.7  4.1   0  0.0   \n",
      "2  1942-43    0    0   0    T   8.7  26.7  16.9  17.7  10.4  5.1   T  0.0   \n",
      "3  1943-44    0    0   0  1.5  13.6   1.7   3.4  24.6  10.5  2.7   0  0.0   \n",
      "4  1944-45    0    0   0    0   3.9  35.1  50.6  23.3   5.8    T   2  0.0   \n",
      "\n",
      "   ANNUAL  YEAR  \n",
      "0    79.3   NaN  \n",
      "1    89.6   NaN  \n",
      "2    85.5   NaN  \n",
      "3    58.0   NaN  \n",
      "4   120.7   NaN  \n"
     ]
    }
   ],
   "source": [
    "bflo_snowfall = pd.read_csv('Buffalo_Snowfall_Data.csv')\n",
    "print(bflo_snowfall.head())\n"
   ]
  },
  {
   "cell_type": "code",
   "execution_count": 5,
   "metadata": {},
   "outputs": [
    {
     "name": "stdout",
     "output_type": "stream",
     "text": [
      "<class 'pandas.core.frame.DataFrame'>\n",
      "RangeIndex: 78 entries, 0 to 77\n",
      "Data columns (total 15 columns):\n",
      "SEASON    78 non-null object\n",
      "JUL       78 non-null int64\n",
      "AUG       78 non-null int64\n",
      "SEP       78 non-null object\n",
      "OCT       78 non-null object\n",
      "NOV       78 non-null object\n",
      "DEC       78 non-null float64\n",
      "JAN       78 non-null float64\n",
      "FEB       78 non-null float64\n",
      "MAR       77 non-null object\n",
      "APR       77 non-null object\n",
      "MAY       77 non-null object\n",
      "JUN       77 non-null float64\n",
      "ANNUAL    78 non-null float64\n",
      "YEAR      0 non-null float64\n",
      "dtypes: float64(6), int64(2), object(7)\n",
      "memory usage: 9.2+ KB\n"
     ]
    }
   ],
   "source": [
    "bflo_snowfall.info(verbose=True)"
   ]
  },
  {
   "cell_type": "markdown",
   "metadata": {},
   "source": [
    "**Adding a *year* column to the DataFrame:** <br>\n",
    "\n",
    "I would like to take a look at how annual snowfall totals have changed over time. This data is organized by seasons. Instead of using seasons, I will create a new column *year* that will indicate the starting year of that winter in which the data was collected. \n",
    "\n",
    "The *SEASON* column stores the years that the data for that particular winter was collected as a string. I will also need to convert that to an integer when creating my *year* column. To do so, first I will create a function *Get_Year* that will read in the first four characters of the *SEASONS* column and convert this result to an integer."
   ]
  },
  {
   "cell_type": "code",
   "execution_count": 6,
   "metadata": {
    "collapsed": true
   },
   "outputs": [],
   "source": [
    "def Get_Year(season):\n",
    "    year_str = season[:4]\n",
    "    return(int(year_str))"
   ]
  },
  {
   "cell_type": "code",
   "execution_count": 7,
   "metadata": {},
   "outputs": [
    {
     "data": {
      "text/plain": [
       "1941"
      ]
     },
     "execution_count": 7,
     "metadata": {},
     "output_type": "execute_result"
    }
   ],
   "source": [
    "Get_Year(bflo_snowfall['SEASON'][1])"
   ]
  },
  {
   "cell_type": "markdown",
   "metadata": {},
   "source": [
    "The function Get_Year is working properly. I will apply it to the *SEASONS* column of the bflo_snowfall dataframe and put these results into the new column *year*"
   ]
  },
  {
   "cell_type": "code",
   "execution_count": 8,
   "metadata": {
    "collapsed": true
   },
   "outputs": [],
   "source": [
    "bflo_snowfall['year'] = bflo_snowfall['SEASON'].apply(Get_Year)"
   ]
  },
  {
   "cell_type": "code",
   "execution_count": 9,
   "metadata": {
    "scrolled": false
   },
   "outputs": [
    {
     "name": "stdout",
     "output_type": "stream",
     "text": [
      "    SEASON  JUL  AUG SEP  OCT   NOV   DEC   JAN   FEB   MAR  APR MAY  JUN  \\\n",
      "0  1940-41    0    0   0    T  17.5  12.1  17.3  23.1   9.3    T   0  0.0   \n",
      "1  1941-42    0    0   0    T     5   7.8  31.0  28.0  13.7  4.1   0  0.0   \n",
      "2  1942-43    0    0   0    T   8.7  26.7  16.9  17.7  10.4  5.1   T  0.0   \n",
      "3  1943-44    0    0   0  1.5  13.6   1.7   3.4  24.6  10.5  2.7   0  0.0   \n",
      "4  1944-45    0    0   0    0   3.9  35.1  50.6  23.3   5.8    T   2  0.0   \n",
      "\n",
      "   ANNUAL  YEAR  year  \n",
      "0    79.3   NaN  1940  \n",
      "1    89.6   NaN  1941  \n",
      "2    85.5   NaN  1942  \n",
      "3    58.0   NaN  1943  \n",
      "4   120.7   NaN  1944  \n"
     ]
    }
   ],
   "source": [
    "print(bflo_snowfall.head())"
   ]
  },
  {
   "cell_type": "code",
   "execution_count": 10,
   "metadata": {
    "scrolled": true
   },
   "outputs": [
    {
     "name": "stdout",
     "output_type": "stream",
     "text": [
      "<class 'numpy.int64'>\n"
     ]
    }
   ],
   "source": [
    "print(type(bflo_snowfall['year'][0]))"
   ]
  },
  {
   "cell_type": "markdown",
   "metadata": {},
   "source": [
    "** Further Data Cleaning **\n",
    "\n",
    "Next I will delete any columns corresponding to months where no snowfall took place. \n",
    "First I will identify these columns."
   ]
  },
  {
   "cell_type": "code",
   "execution_count": 11,
   "metadata": {},
   "outputs": [
    {
     "name": "stdout",
     "output_type": "stream",
     "text": [
      "Index(['SEASON', 'JUL', 'AUG', 'SEP', 'OCT', 'NOV', 'DEC', 'JAN', 'FEB', 'MAR',\n",
      "       'APR', 'MAY', 'JUN', 'ANNUAL', 'YEAR', 'year'],\n",
      "      dtype='object')\n"
     ]
    }
   ],
   "source": [
    "print(bflo_snowfall.columns)"
   ]
  },
  {
   "cell_type": "code",
   "execution_count": 12,
   "metadata": {},
   "outputs": [
    {
     "name": "stdout",
     "output_type": "stream",
     "text": [
      "['JUL', 'AUG']\n"
     ]
    }
   ],
   "source": [
    "zero_snowfall_cols = []\n",
    "\n",
    "for column in bflo_snowfall.columns:\n",
    "    if (bflo_snowfall[column] == 0).all():\n",
    "        zero_snowfall_cols.append(column)\n",
    "\n",
    "print(zero_snowfall_cols)\n",
    "    "
   ]
  },
  {
   "cell_type": "markdown",
   "metadata": {},
   "source": [
    "The above result indicates that only the months of July and August saw no snowfall in Buffalo, NY. I found this intriguing, as I was unaware that it had ever snowed in the months of June or September. \n",
    "I would like to take a look at these instances in June and September that saw snowfall and make sure this is true.\n",
    "\n",
    "I did look at a summary of the data when I first loaded in the data set. Most columns contain 78 non null entires, but June was one of the columns that did contain null entries. This is probably why June was not on the list of months that received no snowfall. I would like to explore all of the missing data to determine how to incorporate it.\n",
    "\n",
    "I can verify this below:"
   ]
  },
  {
   "cell_type": "code",
   "execution_count": 13,
   "metadata": {},
   "outputs": [
    {
     "data": {
      "text/plain": [
       "True"
      ]
     },
     "execution_count": 13,
     "metadata": {},
     "output_type": "execute_result"
    }
   ],
   "source": [
    "pd.isnull(bflo_snowfall['JUN']).any()"
   ]
  },
  {
   "cell_type": "markdown",
   "metadata": {},
   "source": [
    "As expected, The *June* column contains some missing data."
   ]
  },
  {
   "cell_type": "code",
   "execution_count": 14,
   "metadata": {},
   "outputs": [
    {
     "data": {
      "text/plain": [
       "0.0"
      ]
     },
     "execution_count": 14,
     "metadata": {},
     "output_type": "execute_result"
    }
   ],
   "source": [
    "bflo_snowfall['JUN'].sum()"
   ]
  },
  {
   "cell_type": "markdown",
   "metadata": {},
   "source": [
    "Summing the total snowfall during the months of *June* I get zero. This tells me its safe to fill in the missing values for *June* with zero."
   ]
  },
  {
   "cell_type": "code",
   "execution_count": 15,
   "metadata": {},
   "outputs": [
    {
     "data": {
      "text/plain": [
       "False"
      ]
     },
     "execution_count": 15,
     "metadata": {},
     "output_type": "execute_result"
    }
   ],
   "source": [
    "bflo_snowfall['JUN'].fillna(0, inplace=True)\n",
    "bflo_snowfall['JUN'].isnull().any()"
   ]
  },
  {
   "cell_type": "markdown",
   "metadata": {},
   "source": [
    "Now that the missing values for June snowfall have been filled in, let's take a look at September snowfall data."
   ]
  },
  {
   "cell_type": "code",
   "execution_count": 16,
   "metadata": {},
   "outputs": [
    {
     "data": {
      "text/plain": [
       "False"
      ]
     },
     "execution_count": 16,
     "metadata": {},
     "output_type": "execute_result"
    }
   ],
   "source": [
    "pd.isnull(bflo_snowfall['SEP']).any()"
   ]
  },
  {
   "cell_type": "markdown",
   "metadata": {},
   "source": [
    "I found it interesting that September had no null values. Why then was it not included in the months where no snowfall was recorded? "
   ]
  },
  {
   "cell_type": "code",
   "execution_count": 17,
   "metadata": {},
   "outputs": [
    {
     "data": {
      "text/plain": [
       "0    76\n",
       "T     2\n",
       "Name: SEP, dtype: int64"
      ]
     },
     "execution_count": 17,
     "metadata": {},
     "output_type": "execute_result"
    }
   ],
   "source": [
    "bflo_snowfall['SEP'].value_counts()"
   ]
  },
  {
   "cell_type": "markdown",
   "metadata": {},
   "source": [
    "This solves the mystery as to why September is not counted among the months receiving no snowfall, there are two years where the month of September received a trace amount of snowfall. \n",
    "Therefore, it will be safe for me to not only exclude the months of July and August from the snowfall study, but also the months of September and June. \n",
    "\n",
    "Therefore, I will make a subset of the *bflo_snowfall* dataframe and exclude the *SEASONS* column as well as the months that do not see measureable amounts of snowfall."
   ]
  },
  {
   "cell_type": "code",
   "execution_count": 18,
   "metadata": {},
   "outputs": [
    {
     "name": "stdout",
     "output_type": "stream",
     "text": [
      "   year  OCT   NOV   DEC   JAN   FEB   MAR  APR MAY  ANNUAL\n",
      "0  1940    T  17.5  12.1  17.3  23.1   9.3    T   0    79.3\n",
      "1  1941    T     5   7.8  31.0  28.0  13.7  4.1   0    89.6\n",
      "2  1942    T   8.7  26.7  16.9  17.7  10.4  5.1   T    85.5\n",
      "3  1943  1.5  13.6   1.7   3.4  24.6  10.5  2.7   0    58.0\n",
      "4  1944    0   3.9  35.1  50.6  23.3   5.8    T   2   120.7\n"
     ]
    }
   ],
   "source": [
    "bflo_snowfall_subset = bflo_snowfall[['year','OCT','NOV','DEC','JAN','FEB','MAR','APR','MAY','ANNUAL']]\n",
    "print(bflo_snowfall_subset.head())"
   ]
  },
  {
   "cell_type": "code",
   "execution_count": 19,
   "metadata": {},
   "outputs": [
    {
     "name": "stdout",
     "output_type": "stream",
     "text": [
      "<class 'pandas.core.frame.DataFrame'>\n",
      "RangeIndex: 78 entries, 0 to 77\n",
      "Data columns (total 10 columns):\n",
      "year      78 non-null int64\n",
      "OCT       78 non-null object\n",
      "NOV       78 non-null object\n",
      "DEC       78 non-null float64\n",
      "JAN       78 non-null float64\n",
      "FEB       78 non-null float64\n",
      "MAR       77 non-null object\n",
      "APR       77 non-null object\n",
      "MAY       77 non-null object\n",
      "ANNUAL    78 non-null float64\n",
      "dtypes: float64(4), int64(1), object(5)\n",
      "memory usage: 6.2+ KB\n",
      "Index(['year', 'OCT', 'NOV', 'DEC', 'JAN', 'FEB', 'MAR', 'APR', 'MAY',\n",
      "       'ANNUAL'],\n",
      "      dtype='object')\n"
     ]
    }
   ],
   "source": [
    "bflo_snowfall_subset.info(verbose=True)\n",
    "print(bflo_snowfall_subset.columns)"
   ]
  },
  {
   "cell_type": "markdown",
   "metadata": {},
   "source": [
    "From the above information, I see there is still some work to do.\n",
    "\n",
    "1.) March, April, and May still have one missing value each. \n",
    "<br>\n",
    "    \n",
    "2.) October, November, March, April, and May columns are type \"object\" indicating that at least one value in these columns is a string. I suspect that this is from the value *T* that is recorded when a trace amount of snowfall was recorded. \n",
    "<br>\n",
    "\n",
    "First I will fix issue number 2. I am going to replace all values of *T* in the DataFrame with a value of zero."
   ]
  },
  {
   "cell_type": "code",
   "execution_count": 20,
   "metadata": {},
   "outputs": [
    {
     "name": "stdout",
     "output_type": "stream",
     "text": [
      "0      T\n",
      "1      T\n",
      "2      T\n",
      "3    1.5\n",
      "4      0\n",
      "Name: OCT, dtype: object\n",
      "<class 'str'>\n"
     ]
    }
   ],
   "source": [
    "print(bflo_snowfall_subset['OCT'][:5])\n",
    "print(type(bflo_snowfall_subset['OCT'][0]))"
   ]
  },
  {
   "cell_type": "code",
   "execution_count": 21,
   "metadata": {
    "collapsed": true
   },
   "outputs": [],
   "source": [
    "pd.options.mode.chained_assignment = None "
   ]
  },
  {
   "cell_type": "code",
   "execution_count": 22,
   "metadata": {
    "collapsed": true
   },
   "outputs": [],
   "source": [
    "bflo_snowfall_subset['OCT'] = bflo_snowfall_subset['OCT'].apply(lambda x: x.replace('T','0'))"
   ]
  },
  {
   "cell_type": "code",
   "execution_count": 23,
   "metadata": {
    "collapsed": true
   },
   "outputs": [],
   "source": [
    "def remove_T(column):\n",
    "    bflo_snowfall_subset[column] = bflo_snowfall_subset[column].apply(str)\n",
    "    bflo_snowfall_subset[column] = bflo_snowfall_subset[column].apply(lambda x: x.replace('T','0'))\n"
   ]
  },
  {
   "cell_type": "code",
   "execution_count": 24,
   "metadata": {
    "collapsed": true
   },
   "outputs": [],
   "source": [
    "columns_T = ['DEC','NOV','JAN','FEB','MAR','APR','MAY']\n",
    "\n",
    "for column in columns_T:\n",
    "    remove_T(column)"
   ]
  },
  {
   "cell_type": "code",
   "execution_count": 25,
   "metadata": {},
   "outputs": [
    {
     "name": "stdout",
     "output_type": "stream",
     "text": [
      "   year  OCT   NOV   DEC   JAN   FEB   MAR  APR  MAY  ANNUAL\n",
      "0  1940    0  17.5  12.1  17.3  23.1   9.3    0    0    79.3\n",
      "1  1941    0     5   7.8  31.0  28.0  13.7  4.1    0    89.6\n",
      "2  1942    0   8.7  26.7  16.9  17.7  10.4  5.1    0    85.5\n",
      "3  1943  1.5  13.6   1.7   3.4  24.6  10.5  2.7    0    58.0\n",
      "4  1944    0   3.9  35.1  50.6  23.3   5.8    0    2   120.7\n",
      "5  1945    0  25.2  51.1  10.7  23.5     0    0    0   110.5\n",
      "6  1946    0     0  11.9  13.0  22.2  13.5    4  0.8    65.4\n",
      "7  1947    0   9.9   4.3  16.7   7.0   4.2    0    0    42.1\n",
      "8  1948    0   1.3   7.0  11.8   5.2  14.3  0.5    0    40.1\n",
      "9  1949    0  28.6   9.5  14.8  19.3  13.7  2.8    0    88.7\n"
     ]
    }
   ],
   "source": [
    "print(bflo_snowfall_subset.head(10))"
   ]
  },
  {
   "cell_type": "markdown",
   "metadata": {},
   "source": [
    "Now that all of the *T's* are removed I have a couple more things to do:\n",
    "\n",
    "1. I want to ensure that the data types of each column of my subsetted dataframe are uniform. That is, all columns should be of numeric type.\n",
    "\n",
    "2. I want to make all of my column names lowercase."
   ]
  },
  {
   "cell_type": "code",
   "execution_count": 28,
   "metadata": {},
   "outputs": [],
   "source": [
    "for column in ['OCT','NOV','DEC','JAN','FEB','MAR','APR','MAY']:\n",
    "    bflo_snowfall_subset[column] = pd.to_numeric(bflo_snowfall_subset[column],errors ='coerce')\n"
   ]
  },
  {
   "cell_type": "code",
   "execution_count": 29,
   "metadata": {
    "collapsed": true
   },
   "outputs": [],
   "source": [
    "bflo_snowfall_subset.columns = bflo_snowfall_subset.columns.str.lower()"
   ]
  },
  {
   "cell_type": "code",
   "execution_count": 30,
   "metadata": {},
   "outputs": [
    {
     "name": "stdout",
     "output_type": "stream",
     "text": [
      "   year  oct   nov   dec   jan   feb   mar  apr  may  annual\n",
      "0  1940  0.0  17.5  12.1  17.3  23.1   9.3  0.0  0.0    79.3\n",
      "1  1941  0.0   5.0   7.8  31.0  28.0  13.7  4.1  0.0    89.6\n",
      "2  1942  0.0   8.7  26.7  16.9  17.7  10.4  5.1  0.0    85.5\n",
      "3  1943  1.5  13.6   1.7   3.4  24.6  10.5  2.7  0.0    58.0\n",
      "4  1944  0.0   3.9  35.1  50.6  23.3   5.8  0.0  2.0   120.7\n",
      "5  1945  0.0  25.2  51.1  10.7  23.5   0.0  0.0  0.0   110.5\n",
      "6  1946  0.0   0.0  11.9  13.0  22.2  13.5  4.0  0.8    65.4\n",
      "7  1947  0.0   9.9   4.3  16.7   7.0   4.2  0.0  0.0    42.1\n",
      "8  1948  0.0   1.3   7.0  11.8   5.2  14.3  0.5  0.0    40.1\n",
      "9  1949  0.0  28.6   9.5  14.8  19.3  13.7  2.8  0.0    88.7\n"
     ]
    }
   ],
   "source": [
    "print(bflo_snowfall_subset.head(10))"
   ]
  },
  {
   "cell_type": "code",
   "execution_count": 31,
   "metadata": {},
   "outputs": [
    {
     "name": "stdout",
     "output_type": "stream",
     "text": [
      "<class 'pandas.core.frame.DataFrame'>\n",
      "RangeIndex: 78 entries, 0 to 77\n",
      "Data columns (total 10 columns):\n",
      "year      78 non-null int64\n",
      "oct       78 non-null float64\n",
      "nov       78 non-null float64\n",
      "dec       78 non-null float64\n",
      "jan       78 non-null float64\n",
      "feb       78 non-null float64\n",
      "mar       77 non-null float64\n",
      "apr       76 non-null float64\n",
      "may       77 non-null float64\n",
      "annual    78 non-null float64\n",
      "dtypes: float64(9), int64(1)\n",
      "memory usage: 6.2 KB\n",
      "None\n"
     ]
    }
   ],
   "source": [
    "print(bflo_snowfall_subset.info(verbose=True))"
   ]
  },
  {
   "cell_type": "markdown",
   "metadata": {},
   "source": [
    "Next I will fix issue number 1. I have decided to fill in the missing values for each month with the monthly mean snowfall amount. "
   ]
  },
  {
   "cell_type": "code",
   "execution_count": 32,
   "metadata": {},
   "outputs": [
    {
     "name": "stdout",
     "output_type": "stream",
     "text": [
      "mar has missing values\n",
      "apr has missing values\n",
      "may has missing values\n"
     ]
    }
   ],
   "source": [
    "for column in bflo_snowfall_subset.columns:\n",
    "    if bflo_snowfall_subset[column].isnull().any():\n",
    "        print(column + ' has missing values')"
   ]
  },
  {
   "cell_type": "code",
   "execution_count": 33,
   "metadata": {
    "collapsed": true
   },
   "outputs": [],
   "source": [
    "missing_cols = ['mar', 'apr','may']"
   ]
  },
  {
   "cell_type": "code",
   "execution_count": 34,
   "metadata": {
    "collapsed": true
   },
   "outputs": [],
   "source": [
    "for c in missing_cols:\n",
    "    m = bflo_snowfall_subset[c].mean()\n",
    "    bflo_snowfall_subset[c].fillna(m,inplace=True)\n",
    "    "
   ]
  },
  {
   "cell_type": "code",
   "execution_count": 35,
   "metadata": {},
   "outputs": [
    {
     "name": "stdout",
     "output_type": "stream",
     "text": [
      "No null values in year found\n",
      "No null values in oct found\n",
      "No null values in nov found\n",
      "No null values in dec found\n",
      "No null values in jan found\n",
      "No null values in feb found\n",
      "No null values in mar found\n",
      "No null values in apr found\n",
      "No null values in may found\n",
      "No null values in annual found\n"
     ]
    }
   ],
   "source": [
    "for column in bflo_snowfall_subset.columns:\n",
    "    if bflo_snowfall_subset[column].isnull().any():\n",
    "        print(column)\n",
    "    else:\n",
    "        print('No null values in ' + column + ' found')"
   ]
  },
  {
   "cell_type": "code",
   "execution_count": 36,
   "metadata": {},
   "outputs": [
    {
     "name": "stdout",
     "output_type": "stream",
     "text": [
      "<class 'pandas.core.frame.DataFrame'>\n",
      "RangeIndex: 78 entries, 0 to 77\n",
      "Data columns (total 10 columns):\n",
      "year      78 non-null int64\n",
      "oct       78 non-null float64\n",
      "nov       78 non-null float64\n",
      "dec       78 non-null float64\n",
      "jan       78 non-null float64\n",
      "feb       78 non-null float64\n",
      "mar       78 non-null float64\n",
      "apr       78 non-null float64\n",
      "may       78 non-null float64\n",
      "annual    78 non-null float64\n",
      "dtypes: float64(9), int64(1)\n",
      "memory usage: 6.2 KB\n",
      "None\n"
     ]
    }
   ],
   "source": [
    "print(bflo_snowfall_subset.info(verbose=True))"
   ]
  },
  {
   "cell_type": "markdown",
   "metadata": {},
   "source": [
    "Now that my data is cleaned up I am ready to begin the next phase of my study."
   ]
  },
  {
   "cell_type": "markdown",
   "metadata": {},
   "source": [
    "### Exploratory Data Analysis"
   ]
  },
  {
   "cell_type": "code",
   "execution_count": 37,
   "metadata": {},
   "outputs": [
    {
     "data": {
      "text/html": [
       "<div>\n",
       "<style>\n",
       "    .dataframe thead tr:only-child th {\n",
       "        text-align: right;\n",
       "    }\n",
       "\n",
       "    .dataframe thead th {\n",
       "        text-align: left;\n",
       "    }\n",
       "\n",
       "    .dataframe tbody tr th {\n",
       "        vertical-align: top;\n",
       "    }\n",
       "</style>\n",
       "<table border=\"1\" class=\"dataframe\">\n",
       "  <thead>\n",
       "    <tr style=\"text-align: right;\">\n",
       "      <th></th>\n",
       "      <th>year</th>\n",
       "      <th>oct</th>\n",
       "      <th>nov</th>\n",
       "      <th>dec</th>\n",
       "      <th>jan</th>\n",
       "      <th>feb</th>\n",
       "      <th>mar</th>\n",
       "      <th>apr</th>\n",
       "      <th>may</th>\n",
       "      <th>annual</th>\n",
       "    </tr>\n",
       "  </thead>\n",
       "  <tbody>\n",
       "    <tr>\n",
       "      <th>count</th>\n",
       "      <td>78.000000</td>\n",
       "      <td>78.000000</td>\n",
       "      <td>78.000000</td>\n",
       "      <td>78.000000</td>\n",
       "      <td>78.000000</td>\n",
       "      <td>78.000000</td>\n",
       "      <td>78.000000</td>\n",
       "      <td>78.000000</td>\n",
       "      <td>78.000000</td>\n",
       "      <td>78.000000</td>\n",
       "    </tr>\n",
       "    <tr>\n",
       "      <th>mean</th>\n",
       "      <td>1978.500000</td>\n",
       "      <td>0.500000</td>\n",
       "      <td>10.097436</td>\n",
       "      <td>23.352564</td>\n",
       "      <td>24.455128</td>\n",
       "      <td>18.355128</td>\n",
       "      <td>12.262338</td>\n",
       "      <td>2.910526</td>\n",
       "      <td>0.167532</td>\n",
       "      <td>92.026923</td>\n",
       "    </tr>\n",
       "    <tr>\n",
       "      <th>std</th>\n",
       "      <td>22.660538</td>\n",
       "      <td>2.601298</td>\n",
       "      <td>9.110961</td>\n",
       "      <td>16.125448</td>\n",
       "      <td>14.787189</td>\n",
       "      <td>10.382186</td>\n",
       "      <td>7.572507</td>\n",
       "      <td>3.226980</td>\n",
       "      <td>0.930220</td>\n",
       "      <td>28.359390</td>\n",
       "    </tr>\n",
       "    <tr>\n",
       "      <th>min</th>\n",
       "      <td>1940.000000</td>\n",
       "      <td>0.000000</td>\n",
       "      <td>0.000000</td>\n",
       "      <td>1.000000</td>\n",
       "      <td>3.400000</td>\n",
       "      <td>1.800000</td>\n",
       "      <td>0.000000</td>\n",
       "      <td>0.000000</td>\n",
       "      <td>0.000000</td>\n",
       "      <td>36.700000</td>\n",
       "    </tr>\n",
       "    <tr>\n",
       "      <th>25%</th>\n",
       "      <td>1959.250000</td>\n",
       "      <td>0.000000</td>\n",
       "      <td>2.175000</td>\n",
       "      <td>11.625000</td>\n",
       "      <td>13.700000</td>\n",
       "      <td>11.700000</td>\n",
       "      <td>6.750000</td>\n",
       "      <td>0.525000</td>\n",
       "      <td>0.000000</td>\n",
       "      <td>71.525000</td>\n",
       "    </tr>\n",
       "    <tr>\n",
       "      <th>50%</th>\n",
       "      <td>1978.500000</td>\n",
       "      <td>0.000000</td>\n",
       "      <td>8.800000</td>\n",
       "      <td>20.300000</td>\n",
       "      <td>19.300000</td>\n",
       "      <td>17.250000</td>\n",
       "      <td>10.800000</td>\n",
       "      <td>2.250000</td>\n",
       "      <td>0.000000</td>\n",
       "      <td>89.850000</td>\n",
       "    </tr>\n",
       "    <tr>\n",
       "      <th>75%</th>\n",
       "      <td>1997.750000</td>\n",
       "      <td>0.000000</td>\n",
       "      <td>16.125000</td>\n",
       "      <td>30.950000</td>\n",
       "      <td>31.200000</td>\n",
       "      <td>23.025000</td>\n",
       "      <td>15.425000</td>\n",
       "      <td>3.775000</td>\n",
       "      <td>0.000000</td>\n",
       "      <td>110.350000</td>\n",
       "    </tr>\n",
       "    <tr>\n",
       "      <th>max</th>\n",
       "      <td>2017.000000</td>\n",
       "      <td>22.600000</td>\n",
       "      <td>45.600000</td>\n",
       "      <td>82.700000</td>\n",
       "      <td>68.300000</td>\n",
       "      <td>54.200000</td>\n",
       "      <td>32.800000</td>\n",
       "      <td>15.000000</td>\n",
       "      <td>7.900000</td>\n",
       "      <td>199.400000</td>\n",
       "    </tr>\n",
       "  </tbody>\n",
       "</table>\n",
       "</div>"
      ],
      "text/plain": [
       "              year        oct        nov        dec        jan        feb  \\\n",
       "count    78.000000  78.000000  78.000000  78.000000  78.000000  78.000000   \n",
       "mean   1978.500000   0.500000  10.097436  23.352564  24.455128  18.355128   \n",
       "std      22.660538   2.601298   9.110961  16.125448  14.787189  10.382186   \n",
       "min    1940.000000   0.000000   0.000000   1.000000   3.400000   1.800000   \n",
       "25%    1959.250000   0.000000   2.175000  11.625000  13.700000  11.700000   \n",
       "50%    1978.500000   0.000000   8.800000  20.300000  19.300000  17.250000   \n",
       "75%    1997.750000   0.000000  16.125000  30.950000  31.200000  23.025000   \n",
       "max    2017.000000  22.600000  45.600000  82.700000  68.300000  54.200000   \n",
       "\n",
       "             mar        apr        may      annual  \n",
       "count  78.000000  78.000000  78.000000   78.000000  \n",
       "mean   12.262338   2.910526   0.167532   92.026923  \n",
       "std     7.572507   3.226980   0.930220   28.359390  \n",
       "min     0.000000   0.000000   0.000000   36.700000  \n",
       "25%     6.750000   0.525000   0.000000   71.525000  \n",
       "50%    10.800000   2.250000   0.000000   89.850000  \n",
       "75%    15.425000   3.775000   0.000000  110.350000  \n",
       "max    32.800000  15.000000   7.900000  199.400000  "
      ]
     },
     "execution_count": 37,
     "metadata": {},
     "output_type": "execute_result"
    }
   ],
   "source": [
    "bflo_snowfall_subset.describe(include='all')"
   ]
  },
  {
   "cell_type": "markdown",
   "metadata": {},
   "source": [
    "There is a lot to see here, I am going to start by looking at yearly total snowfall and later move on to examining individual months. "
   ]
  },
  {
   "cell_type": "code",
   "execution_count": 38,
   "metadata": {
    "scrolled": true
   },
   "outputs": [
    {
     "data": {
      "image/png": "[encoded data removed]",
      "text/plain": [
       "<matplotlib.figure.Figure at 0x2315d72db70>"
      ]
     },
     "metadata": {},
     "output_type": "display_data"
    }
   ],
   "source": [
    "% matplotlib inline\n",
    "\n",
    "plt.plot(bflo_snowfall_subset[\"year\"], bflo_snowfall_subset[\"annual\"])\n",
    "plt.style.use('fivethirtyeight')\n",
    "plt.xlim([1940,2017])\n",
    "plt.xlabel('Year')\n",
    "plt.ylabel('Annual Snowfall (inches)')\n",
    "plt.title('Annual Snowfall \\n Buffalo, NY \\n 1940 - 2017')\n",
    "plt.show()"
   ]
  },
  {
   "cell_type": "code",
   "execution_count": 39,
   "metadata": {
    "scrolled": true
   },
   "outputs": [
    {
     "data": {
      "image/png": "[encoded data removed]",
      "text/plain": [
       "<matplotlib.figure.Figure at 0x2315d776898>"
      ]
     },
     "metadata": {},
     "output_type": "display_data"
    }
   ],
   "source": [
    "% matplotlib inline\n",
    "\n",
    "plt.scatter(bflo_snowfall_subset[\"year\"], bflo_snowfall_subset[\"annual\"])\n",
    "plt.xlabel('Year')\n",
    "plt.xlim([1940,2017])\n",
    "plt.ylabel('Annual Snowfall (inches)')\n",
    "plt.title('Annual Snowfall \\n Buffalo, NY \\n 1940 - 2017')\n",
    "plt.show()"
   ]
  },
  {
   "cell_type": "markdown",
   "metadata": {},
   "source": [
    "There seems to be one noticable outlier. This is no doubt due to the *\"blizzard of '77\"*. <br>\n",
    "\n",
    "\n",
    "I also notice periodic high and low points in the line graph, a somewhat cyclic nature of yearly snowfall totals. I am going to resample the annual snowfall by looking at 5 year averages."
   ]
  },
  {
   "cell_type": "code",
   "execution_count": 40,
   "metadata": {},
   "outputs": [
    {
     "data": {
      "text/html": [
       "<div>\n",
       "<style>\n",
       "    .dataframe thead tr:only-child th {\n",
       "        text-align: right;\n",
       "    }\n",
       "\n",
       "    .dataframe thead th {\n",
       "        text-align: left;\n",
       "    }\n",
       "\n",
       "    .dataframe tbody tr th {\n",
       "        vertical-align: top;\n",
       "    }\n",
       "</style>\n",
       "<table border=\"1\" class=\"dataframe\">\n",
       "  <thead>\n",
       "    <tr style=\"text-align: right;\">\n",
       "      <th></th>\n",
       "      <th>year</th>\n",
       "      <th>oct</th>\n",
       "      <th>nov</th>\n",
       "      <th>dec</th>\n",
       "      <th>jan</th>\n",
       "      <th>feb</th>\n",
       "      <th>mar</th>\n",
       "      <th>apr</th>\n",
       "      <th>may</th>\n",
       "      <th>annual</th>\n",
       "    </tr>\n",
       "  </thead>\n",
       "  <tbody>\n",
       "    <tr>\n",
       "      <th>year</th>\n",
       "      <td>1.000000</td>\n",
       "      <td>0.112847</td>\n",
       "      <td>-0.279688</td>\n",
       "      <td>0.159125</td>\n",
       "      <td>0.117324</td>\n",
       "      <td>0.033311</td>\n",
       "      <td>0.093363</td>\n",
       "      <td>-0.042736</td>\n",
       "      <td>-0.021009</td>\n",
       "      <td>0.086665</td>\n",
       "    </tr>\n",
       "    <tr>\n",
       "      <th>oct</th>\n",
       "      <td>0.112847</td>\n",
       "      <td>1.000000</td>\n",
       "      <td>-0.092223</td>\n",
       "      <td>-0.110820</td>\n",
       "      <td>-0.070536</td>\n",
       "      <td>0.160203</td>\n",
       "      <td>-0.114153</td>\n",
       "      <td>-0.007874</td>\n",
       "      <td>-0.009859</td>\n",
       "      <td>-0.010510</td>\n",
       "    </tr>\n",
       "    <tr>\n",
       "      <th>nov</th>\n",
       "      <td>-0.279688</td>\n",
       "      <td>-0.092223</td>\n",
       "      <td>1.000000</td>\n",
       "      <td>0.147129</td>\n",
       "      <td>-0.075712</td>\n",
       "      <td>-0.025107</td>\n",
       "      <td>0.250286</td>\n",
       "      <td>-0.042622</td>\n",
       "      <td>-0.132674</td>\n",
       "      <td>0.419565</td>\n",
       "    </tr>\n",
       "    <tr>\n",
       "      <th>dec</th>\n",
       "      <td>0.159125</td>\n",
       "      <td>-0.110820</td>\n",
       "      <td>0.147129</td>\n",
       "      <td>1.000000</td>\n",
       "      <td>0.132030</td>\n",
       "      <td>-0.080941</td>\n",
       "      <td>0.097356</td>\n",
       "      <td>0.009299</td>\n",
       "      <td>-0.066020</td>\n",
       "      <td>0.661723</td>\n",
       "    </tr>\n",
       "    <tr>\n",
       "      <th>jan</th>\n",
       "      <td>0.117324</td>\n",
       "      <td>-0.070536</td>\n",
       "      <td>-0.075712</td>\n",
       "      <td>0.132030</td>\n",
       "      <td>1.000000</td>\n",
       "      <td>0.002793</td>\n",
       "      <td>-0.034240</td>\n",
       "      <td>0.119002</td>\n",
       "      <td>-0.090120</td>\n",
       "      <td>0.562441</td>\n",
       "    </tr>\n",
       "    <tr>\n",
       "      <th>feb</th>\n",
       "      <td>0.033311</td>\n",
       "      <td>0.160203</td>\n",
       "      <td>-0.025107</td>\n",
       "      <td>-0.080941</td>\n",
       "      <td>0.002793</td>\n",
       "      <td>1.000000</td>\n",
       "      <td>-0.183130</td>\n",
       "      <td>0.031122</td>\n",
       "      <td>0.142025</td>\n",
       "      <td>0.280861</td>\n",
       "    </tr>\n",
       "    <tr>\n",
       "      <th>mar</th>\n",
       "      <td>0.093363</td>\n",
       "      <td>-0.114153</td>\n",
       "      <td>0.250286</td>\n",
       "      <td>0.097356</td>\n",
       "      <td>-0.034240</td>\n",
       "      <td>-0.183130</td>\n",
       "      <td>1.000000</td>\n",
       "      <td>-0.157418</td>\n",
       "      <td>-0.058360</td>\n",
       "      <td>0.295956</td>\n",
       "    </tr>\n",
       "    <tr>\n",
       "      <th>apr</th>\n",
       "      <td>-0.042736</td>\n",
       "      <td>-0.007874</td>\n",
       "      <td>-0.042622</td>\n",
       "      <td>0.009299</td>\n",
       "      <td>0.119002</td>\n",
       "      <td>0.031122</td>\n",
       "      <td>-0.157418</td>\n",
       "      <td>1.000000</td>\n",
       "      <td>-0.048870</td>\n",
       "      <td>0.132040</td>\n",
       "    </tr>\n",
       "    <tr>\n",
       "      <th>may</th>\n",
       "      <td>-0.021009</td>\n",
       "      <td>-0.009859</td>\n",
       "      <td>-0.132674</td>\n",
       "      <td>-0.066020</td>\n",
       "      <td>-0.090120</td>\n",
       "      <td>0.142025</td>\n",
       "      <td>-0.058360</td>\n",
       "      <td>-0.048870</td>\n",
       "      <td>1.000000</td>\n",
       "      <td>-0.065198</td>\n",
       "    </tr>\n",
       "    <tr>\n",
       "      <th>annual</th>\n",
       "      <td>0.086665</td>\n",
       "      <td>-0.010510</td>\n",
       "      <td>0.419565</td>\n",
       "      <td>0.661723</td>\n",
       "      <td>0.562441</td>\n",
       "      <td>0.280861</td>\n",
       "      <td>0.295956</td>\n",
       "      <td>0.132040</td>\n",
       "      <td>-0.065198</td>\n",
       "      <td>1.000000</td>\n",
       "    </tr>\n",
       "  </tbody>\n",
       "</table>\n",
       "</div>"
      ],
      "text/plain": [
       "            year       oct       nov       dec       jan       feb       mar  \\\n",
       "year    1.000000  0.112847 -0.279688  0.159125  0.117324  0.033311  0.093363   \n",
       "oct     0.112847  1.000000 -0.092223 -0.110820 -0.070536  0.160203 -0.114153   \n",
       "nov    -0.279688 -0.092223  1.000000  0.147129 -0.075712 -0.025107  0.250286   \n",
       "dec     0.159125 -0.110820  0.147129  1.000000  0.132030 -0.080941  0.097356   \n",
       "jan     0.117324 -0.070536 -0.075712  0.132030  1.000000  0.002793 -0.034240   \n",
       "feb     0.033311  0.160203 -0.025107 -0.080941  0.002793  1.000000 -0.183130   \n",
       "mar     0.093363 -0.114153  0.250286  0.097356 -0.034240 -0.183130  1.000000   \n",
       "apr    -0.042736 -0.007874 -0.042622  0.009299  0.119002  0.031122 -0.157418   \n",
       "may    -0.021009 -0.009859 -0.132674 -0.066020 -0.090120  0.142025 -0.058360   \n",
       "annual  0.086665 -0.010510  0.419565  0.661723  0.562441  0.280861  0.295956   \n",
       "\n",
       "             apr       may    annual  \n",
       "year   -0.042736 -0.021009  0.086665  \n",
       "oct    -0.007874 -0.009859 -0.010510  \n",
       "nov    -0.042622 -0.132674  0.419565  \n",
       "dec     0.009299 -0.066020  0.661723  \n",
       "jan     0.119002 -0.090120  0.562441  \n",
       "feb     0.031122  0.142025  0.280861  \n",
       "mar    -0.157418 -0.058360  0.295956  \n",
       "apr     1.000000 -0.048870  0.132040  \n",
       "may    -0.048870  1.000000 -0.065198  \n",
       "annual  0.132040 -0.065198  1.000000  "
      ]
     },
     "execution_count": 40,
     "metadata": {},
     "output_type": "execute_result"
    }
   ],
   "source": [
    "bflo_snowfall_subset.corr()"
   ]
  },
  {
   "cell_type": "markdown",
   "metadata": {},
   "source": [
    "As evident from the scatterplot, the correlation between year and annual snowfall is approximately 0.087 indicating a very weak positive linear relationship between year and annual snowfall totals."
   ]
  },
  {
   "cell_type": "markdown",
   "metadata": {},
   "source": [
    "### Resampled Snowfall Data"
   ]
  },
  {
   "cell_type": "markdown",
   "metadata": {},
   "source": [
    "Before I resample the data, I am going to convert the index of the DataFrame to a DateTime index utilizing the values from the *'year'* column."
   ]
  },
  {
   "cell_type": "code",
   "execution_count": 45,
   "metadata": {
    "collapsed": true
   },
   "outputs": [],
   "source": [
    "bflo_snowfall_subset.index = pd.to_datetime(bflo_snowfall_subset['year'],format = '%Y')"
   ]
  },
  {
   "cell_type": "code",
   "execution_count": 46,
   "metadata": {},
   "outputs": [
    {
     "name": "stdout",
     "output_type": "stream",
     "text": [
      "DatetimeIndex(['1940-01-01', '1941-01-01', '1942-01-01', '1943-01-01',\n",
      "               '1944-01-01', '1945-01-01', '1946-01-01', '1947-01-01',\n",
      "               '1948-01-01', '1949-01-01', '1950-01-01', '1951-01-01',\n",
      "               '1952-01-01', '1953-01-01', '1954-01-01', '1955-01-01',\n",
      "               '1956-01-01', '1957-01-01', '1958-01-01', '1959-01-01',\n",
      "               '1960-01-01', '1961-01-01', '1962-01-01', '1963-01-01',\n",
      "               '1964-01-01', '1965-01-01', '1966-01-01', '1967-01-01',\n",
      "               '1968-01-01', '1969-01-01', '1970-01-01', '1971-01-01',\n",
      "               '1972-01-01', '1973-01-01', '1974-01-01', '1975-01-01',\n",
      "               '1976-01-01', '1977-01-01', '1978-01-01', '1979-01-01',\n",
      "               '1980-01-01', '1981-01-01', '1982-01-01', '1983-01-01',\n",
      "               '1984-01-01', '1985-01-01', '1986-01-01', '1987-01-01',\n",
      "               '1988-01-01', '1989-01-01', '1990-01-01', '1991-01-01',\n",
      "               '1992-01-01', '1993-01-01', '1994-01-01', '1995-01-01',\n",
      "               '1996-01-01', '1997-01-01', '1998-01-01', '1999-01-01',\n",
      "               '2000-01-01', '2001-01-01', '2002-01-01', '2003-01-01',\n",
      "               '2004-01-01', '2005-01-01', '2006-01-01', '2007-01-01',\n",
      "               '2008-01-01', '2009-01-01', '2010-01-01', '2011-01-01',\n",
      "               '2012-01-01', '2013-01-01', '2014-01-01', '2015-01-01',\n",
      "               '2016-01-01', '2017-01-01'],\n",
      "              dtype='datetime64[ns]', name='year', freq=None)\n"
     ]
    }
   ],
   "source": [
    "print(bflo_snowfall_subset.index)"
   ]
  },
  {
   "cell_type": "code",
   "execution_count": 47,
   "metadata": {
    "collapsed": true
   },
   "outputs": [],
   "source": [
    "bflo_snowfall_resample = bflo_snowfall_subset.resample('5A').mean()"
   ]
  },
  {
   "cell_type": "code",
   "execution_count": 48,
   "metadata": {},
   "outputs": [
    {
     "name": "stdout",
     "output_type": "stream",
     "text": [
      "              year   oct    nov    dec    jan    feb        mar       apr  \\\n",
      "year                                                                        \n",
      "2000-12-31  1998.0  0.04  14.94  22.34  32.02   8.80  19.600000  1.460000   \n",
      "2005-12-31  2003.0  0.08   6.24  36.64  28.08  18.24  13.440000  3.660000   \n",
      "2010-12-31  2008.0  4.54   2.66  29.02  25.80  23.02   9.660000  1.060000   \n",
      "2015-12-31  2013.0  0.00   6.58  12.84  24.00  24.02   9.260000  1.980000   \n",
      "2020-12-31  2016.5  0.05   0.50  31.90  21.10  11.55  19.531169  2.605263   \n",
      "\n",
      "                 may  annual  \n",
      "year                          \n",
      "2000-12-31  0.000000   99.20  \n",
      "2005-12-31  0.000000  106.38  \n",
      "2010-12-31  0.000000   95.76  \n",
      "2015-12-31  0.000000   78.68  \n",
      "2020-12-31  0.083766   79.65  \n"
     ]
    }
   ],
   "source": [
    "print(bflo_snowfall_resample.tail())"
   ]
  },
  {
   "cell_type": "markdown",
   "metadata": {},
   "source": [
    "Now to create new plots and take a look at the correlation between year and annual snowfall with the resampled data."
   ]
  },
  {
   "cell_type": "code",
   "execution_count": 49,
   "metadata": {},
   "outputs": [
    {
     "name": "stdout",
     "output_type": "stream",
     "text": [
      "91.1\n"
     ]
    }
   ],
   "source": [
    "med = bflo_snowfall_resample['annual'].median()\n",
    "print(med)"
   ]
  },
  {
   "cell_type": "markdown",
   "metadata": {},
   "source": [
    "Below is a plot with the resampled 5 year annual snowfall data along with a dashed line indicating the median. "
   ]
  },
  {
   "cell_type": "code",
   "execution_count": 50,
   "metadata": {},
   "outputs": [
    {
     "data": {
      "image/png": "[encoded data removed]",
      "text/plain": [
       "<matplotlib.figure.Figure at 0x2315dc46390>"
      ]
     },
     "metadata": {},
     "output_type": "display_data"
    }
   ],
   "source": [
    "% matplotlib inline\n",
    "\n",
    "\n",
    "ax = bflo_snowfall_resample['annual'].plot(xlim =('1940-12-31','2015-12-31'))\n",
    "plt.ylabel('Average Annual Snowfall (inches)')\n",
    "plt.title('Resampled 5 year Buffalo Annual Snowfall ')\n",
    "\n",
    "plt.hlines(med,'1940-12-31','2015-12-31', colors = 'k', linestyle = 'dashed', axes = ax)\n",
    "plt.show()\n"
   ]
  },
  {
   "cell_type": "markdown",
   "metadata": {},
   "source": [
    "Additionally, I would like to look at how the median varies over 20 year time spans. To do so I will create another column in the dataframe *year_group* and then make side-by-side boxplots for each grouping of 20 years. "
   ]
  },
  {
   "cell_type": "code",
   "execution_count": 51,
   "metadata": {},
   "outputs": [
    {
     "data": {
      "text/html": [
       "<div>\n",
       "<style>\n",
       "    .dataframe thead tr:only-child th {\n",
       "        text-align: right;\n",
       "    }\n",
       "\n",
       "    .dataframe thead th {\n",
       "        text-align: left;\n",
       "    }\n",
       "\n",
       "    .dataframe tbody tr th {\n",
       "        vertical-align: top;\n",
       "    }\n",
       "</style>\n",
       "<table border=\"1\" class=\"dataframe\">\n",
       "  <thead>\n",
       "    <tr style=\"text-align: right;\">\n",
       "      <th></th>\n",
       "      <th>year</th>\n",
       "      <th>oct</th>\n",
       "      <th>nov</th>\n",
       "      <th>dec</th>\n",
       "      <th>jan</th>\n",
       "      <th>feb</th>\n",
       "      <th>mar</th>\n",
       "      <th>apr</th>\n",
       "      <th>may</th>\n",
       "      <th>annual</th>\n",
       "    </tr>\n",
       "    <tr>\n",
       "      <th>year</th>\n",
       "      <th></th>\n",
       "      <th></th>\n",
       "      <th></th>\n",
       "      <th></th>\n",
       "      <th></th>\n",
       "      <th></th>\n",
       "      <th></th>\n",
       "      <th></th>\n",
       "      <th></th>\n",
       "      <th></th>\n",
       "    </tr>\n",
       "  </thead>\n",
       "  <tbody>\n",
       "    <tr>\n",
       "      <th>1940-01-01</th>\n",
       "      <td>1940</td>\n",
       "      <td>0.0</td>\n",
       "      <td>17.5</td>\n",
       "      <td>12.1</td>\n",
       "      <td>17.3</td>\n",
       "      <td>23.1</td>\n",
       "      <td>9.3</td>\n",
       "      <td>0.0</td>\n",
       "      <td>0.0</td>\n",
       "      <td>79.3</td>\n",
       "    </tr>\n",
       "    <tr>\n",
       "      <th>1941-01-01</th>\n",
       "      <td>1941</td>\n",
       "      <td>0.0</td>\n",
       "      <td>5.0</td>\n",
       "      <td>7.8</td>\n",
       "      <td>31.0</td>\n",
       "      <td>28.0</td>\n",
       "      <td>13.7</td>\n",
       "      <td>4.1</td>\n",
       "      <td>0.0</td>\n",
       "      <td>89.6</td>\n",
       "    </tr>\n",
       "    <tr>\n",
       "      <th>1942-01-01</th>\n",
       "      <td>1942</td>\n",
       "      <td>0.0</td>\n",
       "      <td>8.7</td>\n",
       "      <td>26.7</td>\n",
       "      <td>16.9</td>\n",
       "      <td>17.7</td>\n",
       "      <td>10.4</td>\n",
       "      <td>5.1</td>\n",
       "      <td>0.0</td>\n",
       "      <td>85.5</td>\n",
       "    </tr>\n",
       "    <tr>\n",
       "      <th>1943-01-01</th>\n",
       "      <td>1943</td>\n",
       "      <td>1.5</td>\n",
       "      <td>13.6</td>\n",
       "      <td>1.7</td>\n",
       "      <td>3.4</td>\n",
       "      <td>24.6</td>\n",
       "      <td>10.5</td>\n",
       "      <td>2.7</td>\n",
       "      <td>0.0</td>\n",
       "      <td>58.0</td>\n",
       "    </tr>\n",
       "    <tr>\n",
       "      <th>1944-01-01</th>\n",
       "      <td>1944</td>\n",
       "      <td>0.0</td>\n",
       "      <td>3.9</td>\n",
       "      <td>35.1</td>\n",
       "      <td>50.6</td>\n",
       "      <td>23.3</td>\n",
       "      <td>5.8</td>\n",
       "      <td>0.0</td>\n",
       "      <td>2.0</td>\n",
       "      <td>120.7</td>\n",
       "    </tr>\n",
       "  </tbody>\n",
       "</table>\n",
       "</div>"
      ],
      "text/plain": [
       "            year  oct   nov   dec   jan   feb   mar  apr  may  annual\n",
       "year                                                                 \n",
       "1940-01-01  1940  0.0  17.5  12.1  17.3  23.1   9.3  0.0  0.0    79.3\n",
       "1941-01-01  1941  0.0   5.0   7.8  31.0  28.0  13.7  4.1  0.0    89.6\n",
       "1942-01-01  1942  0.0   8.7  26.7  16.9  17.7  10.4  5.1  0.0    85.5\n",
       "1943-01-01  1943  1.5  13.6   1.7   3.4  24.6  10.5  2.7  0.0    58.0\n",
       "1944-01-01  1944  0.0   3.9  35.1  50.6  23.3   5.8  0.0  2.0   120.7"
      ]
     },
     "execution_count": 51,
     "metadata": {},
     "output_type": "execute_result"
    }
   ],
   "source": [
    "bflo_snowfall_subset.head()"
   ]
  },
  {
   "cell_type": "code",
   "execution_count": 52,
   "metadata": {},
   "outputs": [
    {
     "data": {
      "text/plain": [
       "numpy.int64"
      ]
     },
     "execution_count": 52,
     "metadata": {},
     "output_type": "execute_result"
    }
   ],
   "source": [
    "type(bflo_snowfall_subset['year'][0])"
   ]
  },
  {
   "cell_type": "code",
   "execution_count": 53,
   "metadata": {
    "collapsed": true
   },
   "outputs": [],
   "source": [
    "def group_twenty(y):\n",
    "    if y <= 1959:\n",
    "        v = '1940 - 1959'\n",
    "    \n",
    "    elif (y > 1959) & (y <= 1979):\n",
    "         v = '1960 - 1979'\n",
    "    \n",
    "    elif (y > 1970) & (y <= 1999):\n",
    "         v = '1980 - 1999'\n",
    "        \n",
    "    else:\n",
    "         v = '2000 - present'\n",
    "    \n",
    "    return v\n",
    "    \n",
    "        "
   ]
  },
  {
   "cell_type": "markdown",
   "metadata": {},
   "source": [
    "I will test to see if my function works on a typical value from the *year* column:"
   ]
  },
  {
   "cell_type": "code",
   "execution_count": 54,
   "metadata": {},
   "outputs": [
    {
     "data": {
      "text/plain": [
       "'1960 - 1979'"
      ]
     },
     "execution_count": 54,
     "metadata": {},
     "output_type": "execute_result"
    }
   ],
   "source": [
    "group_twenty(1962)"
   ]
  },
  {
   "cell_type": "markdown",
   "metadata": {},
   "source": [
    "Now I will apply my function to the *year* column of the dataframe and use the values to create the column *year_group*"
   ]
  },
  {
   "cell_type": "code",
   "execution_count": 55,
   "metadata": {
    "collapsed": true
   },
   "outputs": [],
   "source": [
    "bflo_snowfall_subset['year_group'] = bflo_snowfall_subset['year'].apply(group_twenty)"
   ]
  },
  {
   "cell_type": "code",
   "execution_count": 56,
   "metadata": {},
   "outputs": [
    {
     "data": {
      "text/html": [
       "<div>\n",
       "<style>\n",
       "    .dataframe thead tr:only-child th {\n",
       "        text-align: right;\n",
       "    }\n",
       "\n",
       "    .dataframe thead th {\n",
       "        text-align: left;\n",
       "    }\n",
       "\n",
       "    .dataframe tbody tr th {\n",
       "        vertical-align: top;\n",
       "    }\n",
       "</style>\n",
       "<table border=\"1\" class=\"dataframe\">\n",
       "  <thead>\n",
       "    <tr style=\"text-align: right;\">\n",
       "      <th></th>\n",
       "      <th>year</th>\n",
       "      <th>oct</th>\n",
       "      <th>nov</th>\n",
       "      <th>dec</th>\n",
       "      <th>jan</th>\n",
       "      <th>feb</th>\n",
       "      <th>mar</th>\n",
       "      <th>apr</th>\n",
       "      <th>may</th>\n",
       "      <th>annual</th>\n",
       "      <th>year_group</th>\n",
       "    </tr>\n",
       "    <tr>\n",
       "      <th>year</th>\n",
       "      <th></th>\n",
       "      <th></th>\n",
       "      <th></th>\n",
       "      <th></th>\n",
       "      <th></th>\n",
       "      <th></th>\n",
       "      <th></th>\n",
       "      <th></th>\n",
       "      <th></th>\n",
       "      <th></th>\n",
       "      <th></th>\n",
       "    </tr>\n",
       "  </thead>\n",
       "  <tbody>\n",
       "    <tr>\n",
       "      <th>1940-01-01</th>\n",
       "      <td>1940</td>\n",
       "      <td>0.0</td>\n",
       "      <td>17.5</td>\n",
       "      <td>12.1</td>\n",
       "      <td>17.3</td>\n",
       "      <td>23.1</td>\n",
       "      <td>9.3</td>\n",
       "      <td>0.0</td>\n",
       "      <td>0.0</td>\n",
       "      <td>79.3</td>\n",
       "      <td>1940 - 1959</td>\n",
       "    </tr>\n",
       "    <tr>\n",
       "      <th>1941-01-01</th>\n",
       "      <td>1941</td>\n",
       "      <td>0.0</td>\n",
       "      <td>5.0</td>\n",
       "      <td>7.8</td>\n",
       "      <td>31.0</td>\n",
       "      <td>28.0</td>\n",
       "      <td>13.7</td>\n",
       "      <td>4.1</td>\n",
       "      <td>0.0</td>\n",
       "      <td>89.6</td>\n",
       "      <td>1940 - 1959</td>\n",
       "    </tr>\n",
       "    <tr>\n",
       "      <th>1942-01-01</th>\n",
       "      <td>1942</td>\n",
       "      <td>0.0</td>\n",
       "      <td>8.7</td>\n",
       "      <td>26.7</td>\n",
       "      <td>16.9</td>\n",
       "      <td>17.7</td>\n",
       "      <td>10.4</td>\n",
       "      <td>5.1</td>\n",
       "      <td>0.0</td>\n",
       "      <td>85.5</td>\n",
       "      <td>1940 - 1959</td>\n",
       "    </tr>\n",
       "    <tr>\n",
       "      <th>1943-01-01</th>\n",
       "      <td>1943</td>\n",
       "      <td>1.5</td>\n",
       "      <td>13.6</td>\n",
       "      <td>1.7</td>\n",
       "      <td>3.4</td>\n",
       "      <td>24.6</td>\n",
       "      <td>10.5</td>\n",
       "      <td>2.7</td>\n",
       "      <td>0.0</td>\n",
       "      <td>58.0</td>\n",
       "      <td>1940 - 1959</td>\n",
       "    </tr>\n",
       "    <tr>\n",
       "      <th>1944-01-01</th>\n",
       "      <td>1944</td>\n",
       "      <td>0.0</td>\n",
       "      <td>3.9</td>\n",
       "      <td>35.1</td>\n",
       "      <td>50.6</td>\n",
       "      <td>23.3</td>\n",
       "      <td>5.8</td>\n",
       "      <td>0.0</td>\n",
       "      <td>2.0</td>\n",
       "      <td>120.7</td>\n",
       "      <td>1940 - 1959</td>\n",
       "    </tr>\n",
       "  </tbody>\n",
       "</table>\n",
       "</div>"
      ],
      "text/plain": [
       "            year  oct   nov   dec   jan   feb   mar  apr  may  annual  \\\n",
       "year                                                                    \n",
       "1940-01-01  1940  0.0  17.5  12.1  17.3  23.1   9.3  0.0  0.0    79.3   \n",
       "1941-01-01  1941  0.0   5.0   7.8  31.0  28.0  13.7  4.1  0.0    89.6   \n",
       "1942-01-01  1942  0.0   8.7  26.7  16.9  17.7  10.4  5.1  0.0    85.5   \n",
       "1943-01-01  1943  1.5  13.6   1.7   3.4  24.6  10.5  2.7  0.0    58.0   \n",
       "1944-01-01  1944  0.0   3.9  35.1  50.6  23.3   5.8  0.0  2.0   120.7   \n",
       "\n",
       "             year_group  \n",
       "year                     \n",
       "1940-01-01  1940 - 1959  \n",
       "1941-01-01  1940 - 1959  \n",
       "1942-01-01  1940 - 1959  \n",
       "1943-01-01  1940 - 1959  \n",
       "1944-01-01  1940 - 1959  "
      ]
     },
     "execution_count": 56,
     "metadata": {},
     "output_type": "execute_result"
    }
   ],
   "source": [
    "bflo_snowfall_subset.head()"
   ]
  },
  {
   "cell_type": "markdown",
   "metadata": {},
   "source": [
    "Now I can construct my side-by-side boxplots."
   ]
  },
  {
   "cell_type": "markdown",
   "metadata": {},
   "source": [
    "#### Visuals including the \"blizzard of '77\" "
   ]
  },
  {
   "cell_type": "code",
   "execution_count": 57,
   "metadata": {},
   "outputs": [
    {
     "data": {
      "text/plain": [
       "<matplotlib.text.Text at 0x2315dc188d0>"
      ]
     },
     "execution_count": 57,
     "metadata": {},
     "output_type": "execute_result"
    },
    {
     "data": {
      "image/png": "[encoded data removed]",
      "text/plain": [
       "<matplotlib.figure.Figure at 0x2315a00c208>"
      ]
     },
     "metadata": {},
     "output_type": "display_data"
    }
   ],
   "source": [
    "sns.boxplot(x='year_group',y='annual',data = bflo_snowfall_subset, linewidth = 1, palette = 'Blues')\n",
    "plt.title('Annual Snowfall Over 20 Year Periods')\n",
    "plt.xlabel('')\n",
    "plt.ylabel('Annual Snowfall (inches)')"
   ]
  },
  {
   "cell_type": "markdown",
   "metadata": {},
   "source": [
    "Additionally, I will also create a strip plot for each grouping of twenty years overlayed with a violin plot. "
   ]
  },
  {
   "cell_type": "code",
   "execution_count": 58,
   "metadata": {},
   "outputs": [
    {
     "data": {
      "text/plain": [
       "<matplotlib.text.Text at 0x2315ddd7470>"
      ]
     },
     "execution_count": 58,
     "metadata": {},
     "output_type": "execute_result"
    },
    {
     "data": {
      "image/png": "[encoded data removed]",
      "text/plain": [
       "<matplotlib.figure.Figure at 0x2315ddbc470>"
      ]
     },
     "metadata": {},
     "output_type": "display_data"
    }
   ],
   "source": [
    "sns.violinplot(x='year_group',y='annual',data = bflo_snowfall_subset, linewidth = 1, color = 'lightblue',inner=None)\n",
    "sns.stripplot(x='year_group',y='annual',data = bflo_snowfall_subset,size=4.25, jitter=True)\n",
    "plt.title('Annual Snowfall Over 20 Year Periods')\n",
    "plt.xlabel('')\n",
    "plt.ylabel('Annual Snowfall (inches)')"
   ]
  },
  {
   "cell_type": "markdown",
   "metadata": {},
   "source": [
    "Summary Statiatics for the 20 year groups:"
   ]
  },
  {
   "cell_type": "code",
   "execution_count": 62,
   "metadata": {},
   "outputs": [
    {
     "data": {
      "text/html": [
       "<div>\n",
       "<style>\n",
       "    .dataframe thead tr:only-child th {\n",
       "        text-align: right;\n",
       "    }\n",
       "\n",
       "    .dataframe thead th {\n",
       "        text-align: left;\n",
       "    }\n",
       "\n",
       "    .dataframe tbody tr th {\n",
       "        vertical-align: top;\n",
       "    }\n",
       "</style>\n",
       "<table border=\"1\" class=\"dataframe\">\n",
       "  <thead>\n",
       "    <tr style=\"text-align: right;\">\n",
       "      <th></th>\n",
       "      <th>count</th>\n",
       "      <th>mean</th>\n",
       "      <th>std</th>\n",
       "      <th>min</th>\n",
       "      <th>25%</th>\n",
       "      <th>50%</th>\n",
       "      <th>75%</th>\n",
       "      <th>max</th>\n",
       "    </tr>\n",
       "    <tr>\n",
       "      <th>year_group</th>\n",
       "      <th></th>\n",
       "      <th></th>\n",
       "      <th></th>\n",
       "      <th></th>\n",
       "      <th></th>\n",
       "      <th></th>\n",
       "      <th></th>\n",
       "      <th></th>\n",
       "    </tr>\n",
       "  </thead>\n",
       "  <tbody>\n",
       "    <tr>\n",
       "      <th>1940 - 1959</th>\n",
       "      <td>20.0</td>\n",
       "      <td>86.930000</td>\n",
       "      <td>25.712645</td>\n",
       "      <td>40.1</td>\n",
       "      <td>69.900</td>\n",
       "      <td>87.10</td>\n",
       "      <td>111.300</td>\n",
       "      <td>124.7</td>\n",
       "    </tr>\n",
       "    <tr>\n",
       "      <th>1960 - 1979</th>\n",
       "      <td>20.0</td>\n",
       "      <td>97.140000</td>\n",
       "      <td>31.869097</td>\n",
       "      <td>66.1</td>\n",
       "      <td>76.700</td>\n",
       "      <td>92.70</td>\n",
       "      <td>101.650</td>\n",
       "      <td>199.4</td>\n",
       "    </tr>\n",
       "    <tr>\n",
       "      <th>1980 - 1999</th>\n",
       "      <td>20.0</td>\n",
       "      <td>88.730000</td>\n",
       "      <td>26.300873</td>\n",
       "      <td>52.4</td>\n",
       "      <td>66.450</td>\n",
       "      <td>93.00</td>\n",
       "      <td>108.500</td>\n",
       "      <td>141.4</td>\n",
       "    </tr>\n",
       "    <tr>\n",
       "      <th>2000 - present</th>\n",
       "      <td>18.0</td>\n",
       "      <td>95.672222</td>\n",
       "      <td>30.124073</td>\n",
       "      <td>36.7</td>\n",
       "      <td>76.625</td>\n",
       "      <td>100.55</td>\n",
       "      <td>111.675</td>\n",
       "      <td>158.7</td>\n",
       "    </tr>\n",
       "  </tbody>\n",
       "</table>\n",
       "</div>"
      ],
      "text/plain": [
       "                count       mean        std   min     25%     50%      75%  \\\n",
       "year_group                                                                   \n",
       "1940 - 1959      20.0  86.930000  25.712645  40.1  69.900   87.10  111.300   \n",
       "1960 - 1979      20.0  97.140000  31.869097  66.1  76.700   92.70  101.650   \n",
       "1980 - 1999      20.0  88.730000  26.300873  52.4  66.450   93.00  108.500   \n",
       "2000 - present   18.0  95.672222  30.124073  36.7  76.625  100.55  111.675   \n",
       "\n",
       "                  max  \n",
       "year_group             \n",
       "1940 - 1959     124.7  \n",
       "1960 - 1979     199.4  \n",
       "1980 - 1999     141.4  \n",
       "2000 - present  158.7  "
      ]
     },
     "execution_count": 62,
     "metadata": {},
     "output_type": "execute_result"
    }
   ],
   "source": [
    "bflo_snowfall_subset.groupby('year_group')['annual'].describe()"
   ]
  },
  {
   "cell_type": "code",
   "execution_count": 63,
   "metadata": {},
   "outputs": [
    {
     "name": "stdout",
     "output_type": "stream",
     "text": [
      "year_group\n",
      "1940 - 1959       41.40\n",
      "1960 - 1979       24.95\n",
      "1980 - 1999       42.05\n",
      "2000 - present    35.05\n",
      "Name: annual, dtype: float64\n"
     ]
    }
   ],
   "source": [
    "IQR =  bflo_snowfall_subset.groupby('year_group')['annual'].quantile(0.75) - bflo_snowfall_subset.groupby('year_group')['annual'].quantile(0.25)\n",
    "\n",
    "print(IQR)"
   ]
  },
  {
   "cell_type": "code",
   "execution_count": 64,
   "metadata": {},
   "outputs": [
    {
     "name": "stdout",
     "output_type": "stream",
     "text": [
      "year_group\n",
      "1940 - 1959        84.6\n",
      "1960 - 1979       133.3\n",
      "1980 - 1999        89.0\n",
      "2000 - present    122.0\n",
      "Name: annual, dtype: float64\n"
     ]
    }
   ],
   "source": [
    "range =  bflo_snowfall_subset.groupby('year_group')['annual'].max() - bflo_snowfall_subset.groupby('year_group')['annual'].min()\n",
    "\n",
    "print(range)"
   ]
  },
  {
   "cell_type": "markdown",
   "metadata": {},
   "source": [
    "Both plots and the IQR and range calculations yield some interesting observations. Despite the fact that the IQR and the range is higher for the period from 1960-1979 (when the blizzard of '77 occured yielding record snowfall), the most recent data seems to have more variability than the data from the early to mid 20th century.  Additionally, the median steadily increases within each grouping of twenty years.   "
   ]
  },
  {
   "cell_type": "markdown",
   "metadata": {},
   "source": [
    "#### Visuals not including the \"blizzard of '77\" "
   ]
  },
  {
   "cell_type": "code",
   "execution_count": 65,
   "metadata": {},
   "outputs": [
    {
     "name": "stdout",
     "output_type": "stream",
     "text": [
      "199.4\n"
     ]
    }
   ],
   "source": [
    "blizzard_total = bflo_snowfall_subset['annual'].max()\n",
    "print(blizzard_total)"
   ]
  },
  {
   "cell_type": "code",
   "execution_count": 66,
   "metadata": {},
   "outputs": [
    {
     "data": {
      "text/html": [
       "<div>\n",
       "<style>\n",
       "    .dataframe thead tr:only-child th {\n",
       "        text-align: right;\n",
       "    }\n",
       "\n",
       "    .dataframe thead th {\n",
       "        text-align: left;\n",
       "    }\n",
       "\n",
       "    .dataframe tbody tr th {\n",
       "        vertical-align: top;\n",
       "    }\n",
       "</style>\n",
       "<table border=\"1\" class=\"dataframe\">\n",
       "  <thead>\n",
       "    <tr style=\"text-align: right;\">\n",
       "      <th></th>\n",
       "      <th>year</th>\n",
       "      <th>oct</th>\n",
       "      <th>nov</th>\n",
       "      <th>dec</th>\n",
       "      <th>jan</th>\n",
       "      <th>feb</th>\n",
       "      <th>mar</th>\n",
       "      <th>apr</th>\n",
       "      <th>may</th>\n",
       "      <th>annual</th>\n",
       "      <th>year_group</th>\n",
       "    </tr>\n",
       "    <tr>\n",
       "      <th>year</th>\n",
       "      <th></th>\n",
       "      <th></th>\n",
       "      <th></th>\n",
       "      <th></th>\n",
       "      <th></th>\n",
       "      <th></th>\n",
       "      <th></th>\n",
       "      <th></th>\n",
       "      <th></th>\n",
       "      <th></th>\n",
       "      <th></th>\n",
       "    </tr>\n",
       "  </thead>\n",
       "  <tbody>\n",
       "    <tr>\n",
       "      <th>1976-01-01</th>\n",
       "      <td>1976</td>\n",
       "      <td>0.2</td>\n",
       "      <td>31.3</td>\n",
       "      <td>60.7</td>\n",
       "      <td>68.3</td>\n",
       "      <td>22.7</td>\n",
       "      <td>13.5</td>\n",
       "      <td>2.2</td>\n",
       "      <td>0.5</td>\n",
       "      <td>199.4</td>\n",
       "      <td>1960 - 1979</td>\n",
       "    </tr>\n",
       "  </tbody>\n",
       "</table>\n",
       "</div>"
      ],
      "text/plain": [
       "            year  oct   nov   dec   jan   feb   mar  apr  may  annual  \\\n",
       "year                                                                    \n",
       "1976-01-01  1976  0.2  31.3  60.7  68.3  22.7  13.5  2.2  0.5   199.4   \n",
       "\n",
       "             year_group  \n",
       "year                     \n",
       "1976-01-01  1960 - 1979  "
      ]
     },
     "execution_count": 66,
     "metadata": {},
     "output_type": "execute_result"
    }
   ],
   "source": [
    "bflo_snowfall_subset.loc[bflo_snowfall_subset['annual'] >= blizzard_total ]"
   ]
  },
  {
   "cell_type": "code",
   "execution_count": 71,
   "metadata": {},
   "outputs": [
    {
     "data": {
      "text/plain": [
       "year                 1976\n",
       "oct                   0.2\n",
       "nov                  31.3\n",
       "dec                  60.7\n",
       "jan                  68.3\n",
       "feb                  22.7\n",
       "mar                  13.5\n",
       "apr                   2.2\n",
       "may                   0.5\n",
       "annual              199.4\n",
       "year_group    1960 - 1979\n",
       "Name: 1976-01-01 00:00:00, dtype: object"
      ]
     },
     "execution_count": 71,
     "metadata": {},
     "output_type": "execute_result"
    }
   ],
   "source": [
    "bflo_snowfall_subset.loc['1976-01-01']"
   ]
  },
  {
   "cell_type": "markdown",
   "metadata": {},
   "source": [
    "I will also look at correlation with the resampled data:"
   ]
  },
  {
   "cell_type": "code",
   "execution_count": 73,
   "metadata": {},
   "outputs": [
    {
     "data": {
      "text/html": [
       "<div>\n",
       "<style>\n",
       "    .dataframe thead tr:only-child th {\n",
       "        text-align: right;\n",
       "    }\n",
       "\n",
       "    .dataframe thead th {\n",
       "        text-align: left;\n",
       "    }\n",
       "\n",
       "    .dataframe tbody tr th {\n",
       "        vertical-align: top;\n",
       "    }\n",
       "</style>\n",
       "<table border=\"1\" class=\"dataframe\">\n",
       "  <thead>\n",
       "    <tr style=\"text-align: right;\">\n",
       "      <th></th>\n",
       "      <th>year</th>\n",
       "      <th>oct</th>\n",
       "      <th>nov</th>\n",
       "      <th>dec</th>\n",
       "      <th>jan</th>\n",
       "      <th>feb</th>\n",
       "      <th>mar</th>\n",
       "      <th>apr</th>\n",
       "      <th>may</th>\n",
       "      <th>annual</th>\n",
       "    </tr>\n",
       "  </thead>\n",
       "  <tbody>\n",
       "    <tr>\n",
       "      <th>year</th>\n",
       "      <td>1.000000</td>\n",
       "      <td>0.271224</td>\n",
       "      <td>-0.676404</td>\n",
       "      <td>0.443350</td>\n",
       "      <td>0.283672</td>\n",
       "      <td>-0.091882</td>\n",
       "      <td>0.318175</td>\n",
       "      <td>0.051167</td>\n",
       "      <td>-0.020005</td>\n",
       "      <td>0.154358</td>\n",
       "    </tr>\n",
       "    <tr>\n",
       "      <th>oct</th>\n",
       "      <td>0.271224</td>\n",
       "      <td>1.000000</td>\n",
       "      <td>-0.364066</td>\n",
       "      <td>0.198260</td>\n",
       "      <td>0.041801</td>\n",
       "      <td>0.237506</td>\n",
       "      <td>-0.123341</td>\n",
       "      <td>-0.143222</td>\n",
       "      <td>-0.127310</td>\n",
       "      <td>0.113272</td>\n",
       "    </tr>\n",
       "    <tr>\n",
       "      <th>nov</th>\n",
       "      <td>-0.676404</td>\n",
       "      <td>-0.364066</td>\n",
       "      <td>1.000000</td>\n",
       "      <td>-0.327545</td>\n",
       "      <td>0.043689</td>\n",
       "      <td>-0.047091</td>\n",
       "      <td>0.079883</td>\n",
       "      <td>0.027317</td>\n",
       "      <td>-0.245675</td>\n",
       "      <td>0.223529</td>\n",
       "    </tr>\n",
       "    <tr>\n",
       "      <th>dec</th>\n",
       "      <td>0.443350</td>\n",
       "      <td>0.198260</td>\n",
       "      <td>-0.327545</td>\n",
       "      <td>1.000000</td>\n",
       "      <td>0.622356</td>\n",
       "      <td>-0.167058</td>\n",
       "      <td>0.258656</td>\n",
       "      <td>0.257025</td>\n",
       "      <td>-0.278083</td>\n",
       "      <td>0.702225</td>\n",
       "    </tr>\n",
       "    <tr>\n",
       "      <th>jan</th>\n",
       "      <td>0.283672</td>\n",
       "      <td>0.041801</td>\n",
       "      <td>0.043689</td>\n",
       "      <td>0.622356</td>\n",
       "      <td>1.000000</td>\n",
       "      <td>-0.001897</td>\n",
       "      <td>0.142484</td>\n",
       "      <td>0.147029</td>\n",
       "      <td>-0.408786</td>\n",
       "      <td>0.837465</td>\n",
       "    </tr>\n",
       "    <tr>\n",
       "      <th>feb</th>\n",
       "      <td>-0.091882</td>\n",
       "      <td>0.237506</td>\n",
       "      <td>-0.047091</td>\n",
       "      <td>-0.167058</td>\n",
       "      <td>-0.001897</td>\n",
       "      <td>1.000000</td>\n",
       "      <td>-0.570614</td>\n",
       "      <td>0.249387</td>\n",
       "      <td>0.223212</td>\n",
       "      <td>0.167166</td>\n",
       "    </tr>\n",
       "    <tr>\n",
       "      <th>mar</th>\n",
       "      <td>0.318175</td>\n",
       "      <td>-0.123341</td>\n",
       "      <td>0.079883</td>\n",
       "      <td>0.258656</td>\n",
       "      <td>0.142484</td>\n",
       "      <td>-0.570614</td>\n",
       "      <td>1.000000</td>\n",
       "      <td>0.167923</td>\n",
       "      <td>-0.390542</td>\n",
       "      <td>0.239257</td>\n",
       "    </tr>\n",
       "    <tr>\n",
       "      <th>apr</th>\n",
       "      <td>0.051167</td>\n",
       "      <td>-0.143222</td>\n",
       "      <td>0.027317</td>\n",
       "      <td>0.257025</td>\n",
       "      <td>0.147029</td>\n",
       "      <td>0.249387</td>\n",
       "      <td>0.167923</td>\n",
       "      <td>1.000000</td>\n",
       "      <td>0.000124</td>\n",
       "      <td>0.437130</td>\n",
       "    </tr>\n",
       "    <tr>\n",
       "      <th>may</th>\n",
       "      <td>-0.020005</td>\n",
       "      <td>-0.127310</td>\n",
       "      <td>-0.245675</td>\n",
       "      <td>-0.278083</td>\n",
       "      <td>-0.408786</td>\n",
       "      <td>0.223212</td>\n",
       "      <td>-0.390542</td>\n",
       "      <td>0.000124</td>\n",
       "      <td>1.000000</td>\n",
       "      <td>-0.415511</td>\n",
       "    </tr>\n",
       "    <tr>\n",
       "      <th>annual</th>\n",
       "      <td>0.154358</td>\n",
       "      <td>0.113272</td>\n",
       "      <td>0.223529</td>\n",
       "      <td>0.702225</td>\n",
       "      <td>0.837465</td>\n",
       "      <td>0.167166</td>\n",
       "      <td>0.239257</td>\n",
       "      <td>0.437130</td>\n",
       "      <td>-0.415511</td>\n",
       "      <td>1.000000</td>\n",
       "    </tr>\n",
       "  </tbody>\n",
       "</table>\n",
       "</div>"
      ],
      "text/plain": [
       "            year       oct       nov       dec       jan       feb       mar  \\\n",
       "year    1.000000  0.271224 -0.676404  0.443350  0.283672 -0.091882  0.318175   \n",
       "oct     0.271224  1.000000 -0.364066  0.198260  0.041801  0.237506 -0.123341   \n",
       "nov    -0.676404 -0.364066  1.000000 -0.327545  0.043689 -0.047091  0.079883   \n",
       "dec     0.443350  0.198260 -0.327545  1.000000  0.622356 -0.167058  0.258656   \n",
       "jan     0.283672  0.041801  0.043689  0.622356  1.000000 -0.001897  0.142484   \n",
       "feb    -0.091882  0.237506 -0.047091 -0.167058 -0.001897  1.000000 -0.570614   \n",
       "mar     0.318175 -0.123341  0.079883  0.258656  0.142484 -0.570614  1.000000   \n",
       "apr     0.051167 -0.143222  0.027317  0.257025  0.147029  0.249387  0.167923   \n",
       "may    -0.020005 -0.127310 -0.245675 -0.278083 -0.408786  0.223212 -0.390542   \n",
       "annual  0.154358  0.113272  0.223529  0.702225  0.837465  0.167166  0.239257   \n",
       "\n",
       "             apr       may    annual  \n",
       "year    0.051167 -0.020005  0.154358  \n",
       "oct    -0.143222 -0.127310  0.113272  \n",
       "nov     0.027317 -0.245675  0.223529  \n",
       "dec     0.257025 -0.278083  0.702225  \n",
       "jan     0.147029 -0.408786  0.837465  \n",
       "feb     0.249387  0.223212  0.167166  \n",
       "mar     0.167923 -0.390542  0.239257  \n",
       "apr     1.000000  0.000124  0.437130  \n",
       "may     0.000124  1.000000 -0.415511  \n",
       "annual  0.437130 -0.415511  1.000000  "
      ]
     },
     "execution_count": 73,
     "metadata": {},
     "output_type": "execute_result"
    }
   ],
   "source": [
    "bflo_snowfall_resample.corr()"
   ]
  },
  {
   "cell_type": "markdown",
   "metadata": {},
   "source": [
    "Again as evident from the visuals made with the resampled data, the correlation between annual snowfall and year is a bit stronger, but still very weak at a value of approximately 0.15436. A linear model is not appropriate for this relationship."
   ]
  },
  {
   "cell_type": "markdown",
   "metadata": {},
   "source": [
    "## Temperature Data "
   ]
  },
  {
   "cell_type": "markdown",
   "metadata": {},
   "source": [
    "Next I will import the temperature data"
   ]
  },
  {
   "cell_type": "code",
   "execution_count": 74,
   "metadata": {},
   "outputs": [
    {
     "name": "stdout",
     "output_type": "stream",
     "text": [
      "   SEASON   JAN   FEB   MAR   APR   MAY   JUN   JUL   AUG   SEP   OCT   NOV  \\\n",
      "0    1940  18.1  25.0  27.0  40.2  53.0  63.0  69.6  69.6  61.0  49.0  39.2   \n",
      "1    1941  24.5  23.6  26.2  48.2  54.6  66.0  72.1  67.8  65.1  52.8  43.8   \n",
      "2    1942  24.2  20.9  36.1  46.8  56.4  65.7  68.0  67.8  62.0  53.2  40.3   \n",
      "3    1943  21.2  25.8  30.3  36.9  51.8  65.7  71.6  68.8  60.8  48.4  37.5   \n",
      "4    1944  29.7  25.1  30.0  41.1  63.4  67.1  72.4  71.8  63.6  50.2  42.0   \n",
      "5    1945  16.2  26.2  44.4  49.8  50.7  64.0  70.2  69.8  64.2  49.8  40.9   \n",
      "6    1946  27.4  24.7  44.5  44.4  55.0  63.9  71.2  66.0  64.4  56.6  44.4   \n",
      "7    1947  29.9  21.6  29.9  43.8  52.8  65.8  68.6  75.2  64.0  59.8  38.0   \n",
      "8    1948  18.6  25.2  35.0  48.8  53.2  65.2  72.0  70.2  64.9  49.6  47.1   \n",
      "9    1949  31.2  31.8  33.6  45.5  57.6  72.2  74.3  71.6  58.8  57.2  38.0   \n",
      "\n",
      "    DEC  ANNUAL  \n",
      "0  32.8    45.6  \n",
      "1  33.8    48.2  \n",
      "2  25.2    47.2  \n",
      "3  26.6    45.4  \n",
      "4  25.4    48.5  \n",
      "5  23.8    47.5  \n",
      "6  31.5    49.5  \n",
      "7  28.3    48.1  \n",
      "8  32.4    48.5  \n",
      "9  33.3    50.4  \n"
     ]
    }
   ],
   "source": [
    "bflo_temps = pd.read_csv('Buffalo_Temps_Data.csv')\n",
    "print(bflo_temps.iloc[0:10])"
   ]
  },
  {
   "cell_type": "code",
   "execution_count": 75,
   "metadata": {
    "collapsed": true
   },
   "outputs": [],
   "source": [
    "bflo_temps.columns = bflo_temps.columns.str.lower()"
   ]
  },
  {
   "cell_type": "code",
   "execution_count": 76,
   "metadata": {},
   "outputs": [
    {
     "data": {
      "text/html": [
       "<div>\n",
       "<style>\n",
       "    .dataframe thead tr:only-child th {\n",
       "        text-align: right;\n",
       "    }\n",
       "\n",
       "    .dataframe thead th {\n",
       "        text-align: left;\n",
       "    }\n",
       "\n",
       "    .dataframe tbody tr th {\n",
       "        vertical-align: top;\n",
       "    }\n",
       "</style>\n",
       "<table border=\"1\" class=\"dataframe\">\n",
       "  <thead>\n",
       "    <tr style=\"text-align: right;\">\n",
       "      <th></th>\n",
       "      <th>season</th>\n",
       "      <th>jan</th>\n",
       "      <th>feb</th>\n",
       "      <th>mar</th>\n",
       "      <th>apr</th>\n",
       "      <th>may</th>\n",
       "      <th>jun</th>\n",
       "      <th>jul</th>\n",
       "      <th>aug</th>\n",
       "      <th>sep</th>\n",
       "      <th>oct</th>\n",
       "      <th>nov</th>\n",
       "      <th>dec</th>\n",
       "      <th>annual</th>\n",
       "    </tr>\n",
       "  </thead>\n",
       "  <tbody>\n",
       "    <tr>\n",
       "      <th>0</th>\n",
       "      <td>1940</td>\n",
       "      <td>18.1</td>\n",
       "      <td>25.0</td>\n",
       "      <td>27.0</td>\n",
       "      <td>40.2</td>\n",
       "      <td>53.0</td>\n",
       "      <td>63.0</td>\n",
       "      <td>69.6</td>\n",
       "      <td>69.6</td>\n",
       "      <td>61.0</td>\n",
       "      <td>49.0</td>\n",
       "      <td>39.2</td>\n",
       "      <td>32.8</td>\n",
       "      <td>45.6</td>\n",
       "    </tr>\n",
       "    <tr>\n",
       "      <th>1</th>\n",
       "      <td>1941</td>\n",
       "      <td>24.5</td>\n",
       "      <td>23.6</td>\n",
       "      <td>26.2</td>\n",
       "      <td>48.2</td>\n",
       "      <td>54.6</td>\n",
       "      <td>66.0</td>\n",
       "      <td>72.1</td>\n",
       "      <td>67.8</td>\n",
       "      <td>65.1</td>\n",
       "      <td>52.8</td>\n",
       "      <td>43.8</td>\n",
       "      <td>33.8</td>\n",
       "      <td>48.2</td>\n",
       "    </tr>\n",
       "    <tr>\n",
       "      <th>2</th>\n",
       "      <td>1942</td>\n",
       "      <td>24.2</td>\n",
       "      <td>20.9</td>\n",
       "      <td>36.1</td>\n",
       "      <td>46.8</td>\n",
       "      <td>56.4</td>\n",
       "      <td>65.7</td>\n",
       "      <td>68.0</td>\n",
       "      <td>67.8</td>\n",
       "      <td>62.0</td>\n",
       "      <td>53.2</td>\n",
       "      <td>40.3</td>\n",
       "      <td>25.2</td>\n",
       "      <td>47.2</td>\n",
       "    </tr>\n",
       "    <tr>\n",
       "      <th>3</th>\n",
       "      <td>1943</td>\n",
       "      <td>21.2</td>\n",
       "      <td>25.8</td>\n",
       "      <td>30.3</td>\n",
       "      <td>36.9</td>\n",
       "      <td>51.8</td>\n",
       "      <td>65.7</td>\n",
       "      <td>71.6</td>\n",
       "      <td>68.8</td>\n",
       "      <td>60.8</td>\n",
       "      <td>48.4</td>\n",
       "      <td>37.5</td>\n",
       "      <td>26.6</td>\n",
       "      <td>45.4</td>\n",
       "    </tr>\n",
       "    <tr>\n",
       "      <th>4</th>\n",
       "      <td>1944</td>\n",
       "      <td>29.7</td>\n",
       "      <td>25.1</td>\n",
       "      <td>30.0</td>\n",
       "      <td>41.1</td>\n",
       "      <td>63.4</td>\n",
       "      <td>67.1</td>\n",
       "      <td>72.4</td>\n",
       "      <td>71.8</td>\n",
       "      <td>63.6</td>\n",
       "      <td>50.2</td>\n",
       "      <td>42.0</td>\n",
       "      <td>25.4</td>\n",
       "      <td>48.5</td>\n",
       "    </tr>\n",
       "  </tbody>\n",
       "</table>\n",
       "</div>"
      ],
      "text/plain": [
       "   season   jan   feb   mar   apr   may   jun   jul   aug   sep   oct   nov  \\\n",
       "0    1940  18.1  25.0  27.0  40.2  53.0  63.0  69.6  69.6  61.0  49.0  39.2   \n",
       "1    1941  24.5  23.6  26.2  48.2  54.6  66.0  72.1  67.8  65.1  52.8  43.8   \n",
       "2    1942  24.2  20.9  36.1  46.8  56.4  65.7  68.0  67.8  62.0  53.2  40.3   \n",
       "3    1943  21.2  25.8  30.3  36.9  51.8  65.7  71.6  68.8  60.8  48.4  37.5   \n",
       "4    1944  29.7  25.1  30.0  41.1  63.4  67.1  72.4  71.8  63.6  50.2  42.0   \n",
       "\n",
       "    dec  annual  \n",
       "0  32.8    45.6  \n",
       "1  33.8    48.2  \n",
       "2  25.2    47.2  \n",
       "3  26.6    45.4  \n",
       "4  25.4    48.5  "
      ]
     },
     "execution_count": 76,
     "metadata": {},
     "output_type": "execute_result"
    }
   ],
   "source": [
    "bflo_temps.head()"
   ]
  },
  {
   "cell_type": "markdown",
   "metadata": {},
   "source": [
    "I would like to find the mean summer and mean winter temperatures for each year. I will create new dataframes for winter and summer titled *winter_temps* and *summer_temps*"
   ]
  },
  {
   "cell_type": "markdown",
   "metadata": {},
   "source": [
    "### Creating and Cleaning *winter_temps* DataFrame"
   ]
  },
  {
   "cell_type": "code",
   "execution_count": 77,
   "metadata": {},
   "outputs": [
    {
     "name": "stdout",
     "output_type": "stream",
     "text": [
      "<class 'pandas.core.frame.DataFrame'>\n",
      "    dec   jan   feb   mar\n",
      "0  32.8  18.1  25.0  27.0\n",
      "1  33.8  24.5  23.6  26.2\n",
      "2  25.2  24.2  20.9  36.1\n",
      "3  26.6  21.2  25.8  30.3\n",
      "4  25.4  29.7  25.1  30.0\n"
     ]
    }
   ],
   "source": [
    "winter_months =['dec','jan','feb','mar']\n",
    "\n",
    "winter_temps = bflo_temps.loc[:, winter_months]\n",
    "\n",
    "print(type(winter_temps))\n",
    "print(winter_temps.head())\n"
   ]
  },
  {
   "cell_type": "code",
   "execution_count": 78,
   "metadata": {},
   "outputs": [
    {
     "name": "stdout",
     "output_type": "stream",
     "text": [
      "    dec   jan   feb   mar  year\n",
      "0  32.8  18.1  25.0  27.0  1940\n",
      "1  33.8  24.5  23.6  26.2  1941\n",
      "2  25.2  24.2  20.9  36.1  1942\n",
      "3  26.6  21.2  25.8  30.3  1943\n",
      "4  25.4  29.7  25.1  30.0  1944\n"
     ]
    }
   ],
   "source": [
    "winter_temps['year'] = bflo_temps['season']\n",
    "print(winter_temps.head())"
   ]
  },
  {
   "cell_type": "markdown",
   "metadata": {},
   "source": [
    "Before creating the 'avg' column of my dataframe for the yearly average winter temperature, I want to check for any missing or unexpected values."
   ]
  },
  {
   "cell_type": "code",
   "execution_count": 79,
   "metadata": {},
   "outputs": [
    {
     "data": {
      "text/plain": [
       "(78, 5)"
      ]
     },
     "execution_count": 79,
     "metadata": {},
     "output_type": "execute_result"
    }
   ],
   "source": [
    "winter_temps.shape"
   ]
  },
  {
   "cell_type": "code",
   "execution_count": 80,
   "metadata": {},
   "outputs": [
    {
     "name": "stdout",
     "output_type": "stream",
     "text": [
      "<class 'pandas.core.frame.DataFrame'>\n",
      "RangeIndex: 78 entries, 0 to 77\n",
      "Data columns (total 5 columns):\n",
      "dec     78 non-null float64\n",
      "jan     78 non-null float64\n",
      "feb     78 non-null float64\n",
      "mar     78 non-null float64\n",
      "year    78 non-null int64\n",
      "dtypes: float64(4), int64(1)\n",
      "memory usage: 3.1 KB\n"
     ]
    }
   ],
   "source": [
    "winter_temps.info(verbose=True)"
   ]
  },
  {
   "cell_type": "code",
   "execution_count": 81,
   "metadata": {},
   "outputs": [
    {
     "data": {
      "text/plain": [
       "RangeIndex(start=0, stop=78, step=1)"
      ]
     },
     "execution_count": 81,
     "metadata": {},
     "output_type": "execute_result"
    }
   ],
   "source": [
    "winter_temps.index"
   ]
  },
  {
   "cell_type": "markdown",
   "metadata": {},
   "source": [
    "It looks like there is no missing data or unexpected values! I do plan to convert the index to DateTime using the 'year' column values. "
   ]
  },
  {
   "cell_type": "code",
   "execution_count": 82,
   "metadata": {},
   "outputs": [
    {
     "name": "stdout",
     "output_type": "stream",
     "text": [
      "DatetimeIndex(['1940-01-01', '1941-01-01', '1942-01-01', '1943-01-01',\n",
      "               '1944-01-01', '1945-01-01', '1946-01-01', '1947-01-01',\n",
      "               '1948-01-01', '1949-01-01', '1950-01-01', '1951-01-01',\n",
      "               '1952-01-01', '1953-01-01', '1954-01-01', '1955-01-01',\n",
      "               '1956-01-01', '1957-01-01', '1958-01-01', '1959-01-01',\n",
      "               '1960-01-01', '1961-01-01', '1962-01-01', '1963-01-01',\n",
      "               '1964-01-01', '1965-01-01', '1966-01-01', '1967-01-01',\n",
      "               '1968-01-01', '1969-01-01', '1970-01-01', '1971-01-01',\n",
      "               '1972-01-01', '1973-01-01', '1974-01-01', '1975-01-01',\n",
      "               '1976-01-01', '1977-01-01', '1978-01-01', '1979-01-01',\n",
      "               '1980-01-01', '1981-01-01', '1982-01-01', '1983-01-01',\n",
      "               '1984-01-01', '1985-01-01', '1986-01-01', '1987-01-01',\n",
      "               '1988-01-01', '1989-01-01', '1990-01-01', '1991-01-01',\n",
      "               '1992-01-01', '1993-01-01', '1994-01-01', '1995-01-01',\n",
      "               '1996-01-01', '1997-01-01', '1998-01-01', '1999-01-01',\n",
      "               '2000-01-01', '2001-01-01', '2002-01-01', '2003-01-01',\n",
      "               '2004-01-01', '2005-01-01', '2006-01-01', '2007-01-01',\n",
      "               '2008-01-01', '2009-01-01', '2010-01-01', '2011-01-01',\n",
      "               '2012-01-01', '2013-01-01', '2014-01-01', '2015-01-01',\n",
      "               '2016-01-01', '2017-01-01'],\n",
      "              dtype='datetime64[ns]', name='year', freq=None)\n"
     ]
    }
   ],
   "source": [
    "winter_temps.index = pd.to_datetime(winter_temps['year'],format = '%Y')\n",
    "print(winter_temps.index)"
   ]
  },
  {
   "cell_type": "markdown",
   "metadata": {},
   "source": [
    "Now I can delete the 'year' column and continue exploring the values in this dataframe."
   ]
  },
  {
   "cell_type": "code",
   "execution_count": 83,
   "metadata": {
    "collapsed": true
   },
   "outputs": [],
   "source": [
    "winter_temps.drop('year',axis=1,inplace=True)"
   ]
  },
  {
   "cell_type": "code",
   "execution_count": 84,
   "metadata": {},
   "outputs": [
    {
     "name": "stdout",
     "output_type": "stream",
     "text": [
      "             dec   jan   feb   mar\n",
      "year                              \n",
      "1940-01-01  32.8  18.1  25.0  27.0\n",
      "1941-01-01  33.8  24.5  23.6  26.2\n",
      "1942-01-01  25.2  24.2  20.9  36.1\n",
      "1943-01-01  26.6  21.2  25.8  30.3\n",
      "1944-01-01  25.4  29.7  25.1  30.0\n"
     ]
    }
   ],
   "source": [
    "print(winter_temps.head())"
   ]
  },
  {
   "cell_type": "markdown",
   "metadata": {},
   "source": [
    "Create a column *avg* in the *winter_temps* dataframe for the average winter temperature."
   ]
  },
  {
   "cell_type": "code",
   "execution_count": 85,
   "metadata": {},
   "outputs": [
    {
     "name": "stdout",
     "output_type": "stream",
     "text": [
      "             dec   jan   feb   mar     avg\n",
      "year                                      \n",
      "1940-01-01  32.8  18.1  25.0  27.0  25.725\n",
      "1941-01-01  33.8  24.5  23.6  26.2  27.025\n",
      "1942-01-01  25.2  24.2  20.9  36.1  26.600\n",
      "1943-01-01  26.6  21.2  25.8  30.3  25.975\n",
      "1944-01-01  25.4  29.7  25.1  30.0  27.550\n"
     ]
    }
   ],
   "source": [
    "winter_temps[\"avg\"] = winter_temps.mean(axis='columns') \n",
    "print(winter_temps.head())"
   ]
  },
  {
   "cell_type": "markdown",
   "metadata": {},
   "source": [
    "### Creating and Cleaning the *summer_temps* DataFrame \n",
    "\n",
    "To do so I will repeat all steps taken to create and clean the *winter_temps* DataFrame to create and clean the *summer_temps* DataFrame."
   ]
  },
  {
   "cell_type": "code",
   "execution_count": 86,
   "metadata": {},
   "outputs": [
    {
     "name": "stdout",
     "output_type": "stream",
     "text": [
      "<class 'pandas.core.frame.DataFrame'>\n",
      "    jun   jul   aug   sep\n",
      "0  63.0  69.6  69.6  61.0\n",
      "1  66.0  72.1  67.8  65.1\n",
      "2  65.7  68.0  67.8  62.0\n",
      "3  65.7  71.6  68.8  60.8\n",
      "4  67.1  72.4  71.8  63.6\n"
     ]
    }
   ],
   "source": [
    "summer_months =['jun','jul','aug','sep']\n",
    "\n",
    "summer_temps = bflo_temps.loc[:, summer_months]\n",
    "\n",
    "summer_temps.columns = summer_temps.columns.str.lower()\n",
    "\n",
    "print(type(summer_temps))\n",
    "print(summer_temps.head())\n",
    "\n"
   ]
  },
  {
   "cell_type": "code",
   "execution_count": 87,
   "metadata": {},
   "outputs": [
    {
     "name": "stdout",
     "output_type": "stream",
     "text": [
      "    jun   jul   aug   sep  year\n",
      "0  63.0  69.6  69.6  61.0  1940\n",
      "1  66.0  72.1  67.8  65.1  1941\n",
      "2  65.7  68.0  67.8  62.0  1942\n",
      "3  65.7  71.6  68.8  60.8  1943\n",
      "4  67.1  72.4  71.8  63.6  1944\n"
     ]
    }
   ],
   "source": [
    "summer_temps['year'] = bflo_temps['season']\n",
    "print(summer_temps.head())"
   ]
  },
  {
   "cell_type": "code",
   "execution_count": 88,
   "metadata": {},
   "outputs": [
    {
     "data": {
      "text/plain": [
       "(78, 5)"
      ]
     },
     "execution_count": 88,
     "metadata": {},
     "output_type": "execute_result"
    }
   ],
   "source": [
    "summer_temps.shape"
   ]
  },
  {
   "cell_type": "code",
   "execution_count": 89,
   "metadata": {},
   "outputs": [
    {
     "name": "stdout",
     "output_type": "stream",
     "text": [
      "<class 'pandas.core.frame.DataFrame'>\n",
      "RangeIndex: 78 entries, 0 to 77\n",
      "Data columns (total 5 columns):\n",
      "jun     78 non-null float64\n",
      "jul     78 non-null float64\n",
      "aug     78 non-null float64\n",
      "sep     78 non-null float64\n",
      "year    78 non-null int64\n",
      "dtypes: float64(4), int64(1)\n",
      "memory usage: 3.1 KB\n"
     ]
    }
   ],
   "source": [
    "summer_temps.info()"
   ]
  },
  {
   "cell_type": "code",
   "execution_count": 90,
   "metadata": {},
   "outputs": [
    {
     "data": {
      "text/plain": [
       "RangeIndex(start=0, stop=78, step=1)"
      ]
     },
     "execution_count": 90,
     "metadata": {},
     "output_type": "execute_result"
    }
   ],
   "source": [
    "summer_temps.index"
   ]
  },
  {
   "cell_type": "code",
   "execution_count": 91,
   "metadata": {
    "collapsed": true
   },
   "outputs": [],
   "source": [
    "summer_temps.index = pd.to_datetime(summer_temps['year'], format ='%Y')"
   ]
  },
  {
   "cell_type": "code",
   "execution_count": 92,
   "metadata": {},
   "outputs": [
    {
     "data": {
      "text/plain": [
       "DatetimeIndex(['1940-01-01', '1941-01-01', '1942-01-01', '1943-01-01',\n",
       "               '1944-01-01', '1945-01-01', '1946-01-01', '1947-01-01',\n",
       "               '1948-01-01', '1949-01-01', '1950-01-01', '1951-01-01',\n",
       "               '1952-01-01', '1953-01-01', '1954-01-01', '1955-01-01',\n",
       "               '1956-01-01', '1957-01-01', '1958-01-01', '1959-01-01',\n",
       "               '1960-01-01', '1961-01-01', '1962-01-01', '1963-01-01',\n",
       "               '1964-01-01', '1965-01-01', '1966-01-01', '1967-01-01',\n",
       "               '1968-01-01', '1969-01-01', '1970-01-01', '1971-01-01',\n",
       "               '1972-01-01', '1973-01-01', '1974-01-01', '1975-01-01',\n",
       "               '1976-01-01', '1977-01-01', '1978-01-01', '1979-01-01',\n",
       "               '1980-01-01', '1981-01-01', '1982-01-01', '1983-01-01',\n",
       "               '1984-01-01', '1985-01-01', '1986-01-01', '1987-01-01',\n",
       "               '1988-01-01', '1989-01-01', '1990-01-01', '1991-01-01',\n",
       "               '1992-01-01', '1993-01-01', '1994-01-01', '1995-01-01',\n",
       "               '1996-01-01', '1997-01-01', '1998-01-01', '1999-01-01',\n",
       "               '2000-01-01', '2001-01-01', '2002-01-01', '2003-01-01',\n",
       "               '2004-01-01', '2005-01-01', '2006-01-01', '2007-01-01',\n",
       "               '2008-01-01', '2009-01-01', '2010-01-01', '2011-01-01',\n",
       "               '2012-01-01', '2013-01-01', '2014-01-01', '2015-01-01',\n",
       "               '2016-01-01', '2017-01-01'],\n",
       "              dtype='datetime64[ns]', name='year', freq=None)"
      ]
     },
     "execution_count": 92,
     "metadata": {},
     "output_type": "execute_result"
    }
   ],
   "source": [
    "summer_temps.index"
   ]
  },
  {
   "cell_type": "code",
   "execution_count": 93,
   "metadata": {},
   "outputs": [
    {
     "name": "stdout",
     "output_type": "stream",
     "text": [
      "             jun   jul   aug   sep\n",
      "year                              \n",
      "1940-01-01  63.0  69.6  69.6  61.0\n",
      "1941-01-01  66.0  72.1  67.8  65.1\n",
      "1942-01-01  65.7  68.0  67.8  62.0\n"
     ]
    }
   ],
   "source": [
    "summer_temps.drop('year',axis=1,inplace=True)\n",
    "print(summer_temps.head(3))"
   ]
  },
  {
   "cell_type": "code",
   "execution_count": 94,
   "metadata": {},
   "outputs": [
    {
     "name": "stdout",
     "output_type": "stream",
     "text": [
      "             jun   jul   aug   sep     avg\n",
      "year                                      \n",
      "1940-01-01  63.0  69.6  69.6  61.0  65.800\n",
      "1941-01-01  66.0  72.1  67.8  65.1  67.750\n",
      "1942-01-01  65.7  68.0  67.8  62.0  65.875\n",
      "1943-01-01  65.7  71.6  68.8  60.8  66.725\n",
      "1944-01-01  67.1  72.4  71.8  63.6  68.725\n"
     ]
    }
   ],
   "source": [
    "summer_temps['avg'] = summer_temps.mean(axis='columns')\n",
    "print(summer_temps.head())"
   ]
  },
  {
   "cell_type": "markdown",
   "metadata": {},
   "source": [
    "### Exploratory Data Analysis: Yearly Summer & Winter Temperatures"
   ]
  },
  {
   "cell_type": "code",
   "execution_count": 95,
   "metadata": {},
   "outputs": [
    {
     "data": {
      "image/png": "[encoded data removed]",
      "text/plain": [
       "<matplotlib.figure.Figure at 0x2315ddd4518>"
      ]
     },
     "metadata": {},
     "output_type": "display_data"
    }
   ],
   "source": [
    "% matplotlib inline\n",
    "\n",
    "\n",
    "ax = winter_temps['avg'].plot(label='Average Winter Temperature')\n",
    "\n",
    "summer_temps['avg'].plot(axes=ax,label='Average Summer Temperature')\n",
    "\n",
    "plt.style.use('fivethirtyeight')\n",
    "\n",
    "plt.ylim([20,80])\n",
    "\n",
    "plt.legend(loc = 'best')\n",
    "plt.xlabel('Year')\n",
    "plt.ylabel('Average Temperature (Degrees F)')\n",
    "plt.title('Average Temperature \\n Buffalo, NY \\n 1940 - 2017')\n",
    "plt.show()"
   ]
  },
  {
   "cell_type": "code",
   "execution_count": 109,
   "metadata": {},
   "outputs": [
    {
     "data": {
      "image/png": "[encoded data removed]",
      "text/plain": [
       "<matplotlib.figure.Figure at 0x2315e4516d8>"
      ]
     },
     "metadata": {},
     "output_type": "display_data"
    }
   ],
   "source": [
    "plt.subplot(2,1,1)\n",
    "winter_temps['avg'].plot()\n",
    "plt.title('Average Winter Temps')\n",
    "plt.subplot(2,1,2)\n",
    "summer_temps['avg'].plot(color = 'red')\n",
    "plt.title('Average Summer Temps')\n",
    "plt.tight_layout() \n",
    "plt.show()\n"
   ]
  },
  {
   "cell_type": "code",
   "execution_count": 103,
   "metadata": {},
   "outputs": [
    {
     "data": {
      "image/png": "[encoded data removed]",
      "text/plain": [
       "<matplotlib.figure.Figure at 0x2315e6bf7b8>"
      ]
     },
     "metadata": {},
     "output_type": "display_data"
    }
   ],
   "source": [
    "plt.scatter(x = summer_temps['avg'],y = winter_temps['avg'])\n",
    "plt.title('Average Seasonal Temperatures  \\n Buffalo, NY 1940-2017')\n",
    "plt.xlabel('Avg. Summer Temps. (Degrees F)')\n",
    "plt.ylabel('Avg. Winter Temps. (Degrees F)')\n",
    "plt.show()\n"
   ]
  },
  {
   "cell_type": "markdown",
   "metadata": {},
   "source": [
    "#### Conclusions"
   ]
  },
  {
   "cell_type": "markdown",
   "metadata": {},
   "source": [
    "From my initial analysis, it does look like average seasonal temperatures are increasing as time passes. I want to take a look at summer and winter separately and then see if both seasonal average temperatures are increasing at a similar rate. "
   ]
  },
  {
   "cell_type": "markdown",
   "metadata": {},
   "source": [
    "### Exploratory Data Analysis: Yearly Summer Temperatures"
   ]
  },
  {
   "cell_type": "markdown",
   "metadata": {},
   "source": [
    "A plot displaying thr median summer temperature along with a line plot of average summer temperatures from 1940-2015"
   ]
  },
  {
   "cell_type": "code",
   "execution_count": 139,
   "metadata": {},
   "outputs": [
    {
     "data": {
      "image/png": "[encoded data removed]",
      "text/plain": [
       "<matplotlib.figure.Figure at 0x2315db9dbe0>"
      ]
     },
     "metadata": {},
     "output_type": "display_data"
    }
   ],
   "source": [
    "summer_median = summer_temps['avg'].median()\n",
    "\n",
    "ax = summer_temps['avg'].plot(c='red')\n",
    "\n",
    "plt.hlines(summer_median,'1940-12-31','2015-12-31', colors = 'k', linestyle = 'dashed', axes = ax)\n",
    "\n",
    "plt.title('Average Yearly Summer Temperatures \\n Buffalo, NY \\n 1940 - 2017')\n",
    "plt.ylabel('Temperature (Degrees F)')\n",
    "plt.show()\n"
   ]
  },
  {
   "cell_type": "markdown",
   "metadata": {},
   "source": [
    "I will also look at average yearly summer temperature over a spans of 20 years and compare the distributions. I will apply the function *group_twenty* to the *summer_temps* dataframe to create a 'year_group' column."
   ]
  },
  {
   "cell_type": "code",
   "execution_count": 142,
   "metadata": {},
   "outputs": [
    {
     "name": "stdout",
     "output_type": "stream",
     "text": [
      "             jun   jul   aug   sep     avg  year   year_group\n",
      "year                                                         \n",
      "1940-01-01  63.0  69.6  69.6  61.0  65.800  1940  1940 - 1959\n",
      "1941-01-01  66.0  72.1  67.8  65.1  67.750  1941  1940 - 1959\n",
      "1942-01-01  65.7  68.0  67.8  62.0  65.875  1942  1940 - 1959\n",
      "1943-01-01  65.7  71.6  68.8  60.8  66.725  1943  1940 - 1959\n",
      "1944-01-01  67.1  72.4  71.8  63.6  68.725  1944  1940 - 1959\n"
     ]
    }
   ],
   "source": [
    "print(summer_temps.head())"
   ]
  },
  {
   "cell_type": "code",
   "execution_count": 153,
   "metadata": {
    "collapsed": true
   },
   "outputs": [],
   "source": [
    "bflo_temps.index = summer_temps.index"
   ]
  },
  {
   "cell_type": "code",
   "execution_count": 141,
   "metadata": {
    "collapsed": true
   },
   "outputs": [],
   "source": [
    "summer_temps['year'] = bflo_temps['season']"
   ]
  },
  {
   "cell_type": "code",
   "execution_count": 126,
   "metadata": {},
   "outputs": [
    {
     "name": "stdout",
     "output_type": "stream",
     "text": [
      "             jun   jul   aug   sep     avg  year\n",
      "year                                            \n",
      "1940-01-01  63.0  69.6  69.6  61.0  65.800  1940\n",
      "1941-01-01  66.0  72.1  67.8  65.1  67.750  1941\n",
      "1942-01-01  65.7  68.0  67.8  62.0  65.875  1942\n"
     ]
    }
   ],
   "source": [
    "print(summer_temps.head(3))"
   ]
  },
  {
   "cell_type": "code",
   "execution_count": 143,
   "metadata": {
    "collapsed": true
   },
   "outputs": [],
   "source": [
    "summer_temps['year_group'] = summer_temps['year'].apply(group_twenty)"
   ]
  },
  {
   "cell_type": "code",
   "execution_count": 134,
   "metadata": {},
   "outputs": [
    {
     "name": "stdout",
     "output_type": "stream",
     "text": [
      "             jun   jul   aug   sep     avg  year   year_group\n",
      "year                                                         \n",
      "1940-01-01  63.0  69.6  69.6  61.0  65.800  1940  1940 - 1959\n",
      "1941-01-01  66.0  72.1  67.8  65.1  67.750  1941  1940 - 1959\n",
      "1942-01-01  65.7  68.0  67.8  62.0  65.875  1942  1940 - 1959\n"
     ]
    }
   ],
   "source": [
    "print(summer_temps.head(3))"
   ]
  },
  {
   "cell_type": "code",
   "execution_count": 135,
   "metadata": {},
   "outputs": [
    {
     "data": {
      "image/png": "[encoded data removed]",
      "text/plain": [
       "<matplotlib.figure.Figure at 0x2315fdeeb70>"
      ]
     },
     "metadata": {},
     "output_type": "display_data"
    }
   ],
   "source": [
    "sns.boxplot(x = 'year_group' , y='avg',data=summer_temps, linewidth = 1,palette = 'summer')\n",
    "plt.title('Average Yearly Summer Temperature \\n Over 20 Year Periods')\n",
    "plt.xticks(rotation=10)\n",
    "plt.ylabel('Avg. Summer Temp. (Degrees F)')\n",
    "plt.xlabel('')\n",
    "plt.show()"
   ]
  },
  {
   "cell_type": "code",
   "execution_count": 144,
   "metadata": {},
   "outputs": [
    {
     "data": {
      "image/png": "[encoded data removed]",
      "text/plain": [
       "<matplotlib.figure.Figure at 0x2315e7bcf28>"
      ]
     },
     "metadata": {},
     "output_type": "display_data"
    }
   ],
   "source": [
    "sns.violinplot(x='year_group',y='avg',data = summer_temps, linewidth = 1, palette = 'summer',inner=None)\n",
    "\n",
    "sns.stripplot(x='year_group',y='avg',data = summer_temps ,size=4.25, jitter=True)\n",
    "\n",
    "plt.title('Average Yearly Summer Temperature \\n Over 20 Year Periods')\n",
    "plt.xlabel('')\n",
    "plt.xticks(rotation=10)\n",
    "plt.ylabel('Avg. Summer Temp. (Degrees F)')\n",
    "plt.show()"
   ]
  },
  {
   "cell_type": "code",
   "execution_count": 146,
   "metadata": {},
   "outputs": [
    {
     "data": {
      "text/html": [
       "<div>\n",
       "<style>\n",
       "    .dataframe thead tr:only-child th {\n",
       "        text-align: right;\n",
       "    }\n",
       "\n",
       "    .dataframe thead th {\n",
       "        text-align: left;\n",
       "    }\n",
       "\n",
       "    .dataframe tbody tr th {\n",
       "        vertical-align: top;\n",
       "    }\n",
       "</style>\n",
       "<table border=\"1\" class=\"dataframe\">\n",
       "  <thead>\n",
       "    <tr style=\"text-align: right;\">\n",
       "      <th></th>\n",
       "      <th>count</th>\n",
       "      <th>mean</th>\n",
       "      <th>std</th>\n",
       "      <th>min</th>\n",
       "      <th>25%</th>\n",
       "      <th>50%</th>\n",
       "      <th>75%</th>\n",
       "      <th>max</th>\n",
       "    </tr>\n",
       "    <tr>\n",
       "      <th>year_group</th>\n",
       "      <th></th>\n",
       "      <th></th>\n",
       "      <th></th>\n",
       "      <th></th>\n",
       "      <th></th>\n",
       "      <th></th>\n",
       "      <th></th>\n",
       "      <th></th>\n",
       "    </tr>\n",
       "  </thead>\n",
       "  <tbody>\n",
       "    <tr>\n",
       "      <th>1940 - 1959</th>\n",
       "      <td>20.0</td>\n",
       "      <td>67.450000</td>\n",
       "      <td>1.391752</td>\n",
       "      <td>65.800</td>\n",
       "      <td>66.29375</td>\n",
       "      <td>67.1000</td>\n",
       "      <td>68.47500</td>\n",
       "      <td>70.300</td>\n",
       "    </tr>\n",
       "    <tr>\n",
       "      <th>1960 - 1979</th>\n",
       "      <td>20.0</td>\n",
       "      <td>66.756250</td>\n",
       "      <td>1.023213</td>\n",
       "      <td>64.575</td>\n",
       "      <td>66.11875</td>\n",
       "      <td>66.7875</td>\n",
       "      <td>67.48125</td>\n",
       "      <td>68.500</td>\n",
       "    </tr>\n",
       "    <tr>\n",
       "      <th>1980 - 1999</th>\n",
       "      <td>20.0</td>\n",
       "      <td>67.318750</td>\n",
       "      <td>1.287155</td>\n",
       "      <td>64.525</td>\n",
       "      <td>66.61875</td>\n",
       "      <td>67.4125</td>\n",
       "      <td>68.36875</td>\n",
       "      <td>69.175</td>\n",
       "    </tr>\n",
       "    <tr>\n",
       "      <th>2000 - present</th>\n",
       "      <td>18.0</td>\n",
       "      <td>68.280556</td>\n",
       "      <td>1.669989</td>\n",
       "      <td>65.425</td>\n",
       "      <td>67.21250</td>\n",
       "      <td>68.0875</td>\n",
       "      <td>69.58125</td>\n",
       "      <td>71.400</td>\n",
       "    </tr>\n",
       "  </tbody>\n",
       "</table>\n",
       "</div>"
      ],
      "text/plain": [
       "                count       mean       std     min       25%      50%  \\\n",
       "year_group                                                              \n",
       "1940 - 1959      20.0  67.450000  1.391752  65.800  66.29375  67.1000   \n",
       "1960 - 1979      20.0  66.756250  1.023213  64.575  66.11875  66.7875   \n",
       "1980 - 1999      20.0  67.318750  1.287155  64.525  66.61875  67.4125   \n",
       "2000 - present   18.0  68.280556  1.669989  65.425  67.21250  68.0875   \n",
       "\n",
       "                     75%     max  \n",
       "year_group                        \n",
       "1940 - 1959     68.47500  70.300  \n",
       "1960 - 1979     67.48125  68.500  \n",
       "1980 - 1999     68.36875  69.175  \n",
       "2000 - present  69.58125  71.400  "
      ]
     },
     "execution_count": 146,
     "metadata": {},
     "output_type": "execute_result"
    }
   ],
   "source": [
    "summer_temps.groupby('year_group')['avg'].describe()"
   ]
  },
  {
   "cell_type": "markdown",
   "metadata": {},
   "source": [
    "#### Conclusion"
   ]
  },
  {
   "cell_type": "markdown",
   "metadata": {},
   "source": [
    "Average summer temperatures do seem to be increasing as time passes. Although the median for the most recent 20 year time frame is only about one degree greater than the median of the average summer temperatures from 1940-1959, I still feel this is a significant increase. "
   ]
  },
  {
   "cell_type": "markdown",
   "metadata": {},
   "source": [
    "### Exploratory Data Analysis: Yearly Winter Temperatures"
   ]
  },
  {
   "cell_type": "markdown",
   "metadata": {},
   "source": [
    "A plot displaying thr median summer temperature along with a line plot of average summer temperatures from 1940-2015\n"
   ]
  },
  {
   "cell_type": "code",
   "execution_count": 147,
   "metadata": {},
   "outputs": [
    {
     "name": "stdout",
     "output_type": "stream",
     "text": [
      "27.9875\n"
     ]
    }
   ],
   "source": [
    "med_wtemps = winter_temps['avg'].median()\n",
    "print(med_wtemps)"
   ]
  },
  {
   "cell_type": "code",
   "execution_count": 148,
   "metadata": {},
   "outputs": [
    {
     "data": {
      "image/png": "[encoded data removed]",
      "text/plain": [
       "<matplotlib.figure.Figure at 0x2315fff5208>"
      ]
     },
     "metadata": {},
     "output_type": "display_data"
    }
   ],
   "source": [
    "ax = winter_temps['avg'].plot()\n",
    "plt.title('Average Winter Temps')\n",
    "plt.hlines(med_wtemps,'1940-01-01','2015-01-01', colors = 'k', linestyle = 'dashed', axes = ax)\n",
    "plt.show()"
   ]
  },
  {
   "cell_type": "markdown",
   "metadata": {},
   "source": [
    "I will also look at average yearly summer temperature over a spans of 20 years and compare the distributions. I will apply the function *group_twenty* to the *winter_temps* dataframe to create a 'year_group' column."
   ]
  },
  {
   "cell_type": "code",
   "execution_count": 155,
   "metadata": {},
   "outputs": [],
   "source": [
    "winter_temps['year'] = bflo_temps['season']"
   ]
  },
  {
   "cell_type": "code",
   "execution_count": 158,
   "metadata": {},
   "outputs": [
    {
     "data": {
      "text/html": [
       "<div>\n",
       "<style>\n",
       "    .dataframe thead tr:only-child th {\n",
       "        text-align: right;\n",
       "    }\n",
       "\n",
       "    .dataframe thead th {\n",
       "        text-align: left;\n",
       "    }\n",
       "\n",
       "    .dataframe tbody tr th {\n",
       "        vertical-align: top;\n",
       "    }\n",
       "</style>\n",
       "<table border=\"1\" class=\"dataframe\">\n",
       "  <thead>\n",
       "    <tr style=\"text-align: right;\">\n",
       "      <th></th>\n",
       "      <th>dec</th>\n",
       "      <th>jan</th>\n",
       "      <th>feb</th>\n",
       "      <th>mar</th>\n",
       "      <th>avg</th>\n",
       "      <th>year</th>\n",
       "      <th>year_group</th>\n",
       "    </tr>\n",
       "    <tr>\n",
       "      <th>year</th>\n",
       "      <th></th>\n",
       "      <th></th>\n",
       "      <th></th>\n",
       "      <th></th>\n",
       "      <th></th>\n",
       "      <th></th>\n",
       "      <th></th>\n",
       "    </tr>\n",
       "  </thead>\n",
       "  <tbody>\n",
       "    <tr>\n",
       "      <th>1940-01-01</th>\n",
       "      <td>32.8</td>\n",
       "      <td>18.1</td>\n",
       "      <td>25.0</td>\n",
       "      <td>27.0</td>\n",
       "      <td>25.725</td>\n",
       "      <td>1940</td>\n",
       "      <td>1940 - 1959</td>\n",
       "    </tr>\n",
       "    <tr>\n",
       "      <th>1941-01-01</th>\n",
       "      <td>33.8</td>\n",
       "      <td>24.5</td>\n",
       "      <td>23.6</td>\n",
       "      <td>26.2</td>\n",
       "      <td>27.025</td>\n",
       "      <td>1941</td>\n",
       "      <td>1940 - 1959</td>\n",
       "    </tr>\n",
       "    <tr>\n",
       "      <th>1942-01-01</th>\n",
       "      <td>25.2</td>\n",
       "      <td>24.2</td>\n",
       "      <td>20.9</td>\n",
       "      <td>36.1</td>\n",
       "      <td>26.600</td>\n",
       "      <td>1942</td>\n",
       "      <td>1940 - 1959</td>\n",
       "    </tr>\n",
       "  </tbody>\n",
       "</table>\n",
       "</div>"
      ],
      "text/plain": [
       "             dec   jan   feb   mar     avg  year   year_group\n",
       "year                                                         \n",
       "1940-01-01  32.8  18.1  25.0  27.0  25.725  1940  1940 - 1959\n",
       "1941-01-01  33.8  24.5  23.6  26.2  27.025  1941  1940 - 1959\n",
       "1942-01-01  25.2  24.2  20.9  36.1  26.600  1942  1940 - 1959"
      ]
     },
     "execution_count": 158,
     "metadata": {},
     "output_type": "execute_result"
    }
   ],
   "source": [
    "winter_temps.head(3)"
   ]
  },
  {
   "cell_type": "code",
   "execution_count": 157,
   "metadata": {
    "collapsed": true
   },
   "outputs": [],
   "source": [
    "winter_temps['year_group'] = winter_temps['year'].apply(group_twenty)"
   ]
  },
  {
   "cell_type": "code",
   "execution_count": 159,
   "metadata": {},
   "outputs": [
    {
     "data": {
      "text/html": [
       "<div>\n",
       "<style>\n",
       "    .dataframe thead tr:only-child th {\n",
       "        text-align: right;\n",
       "    }\n",
       "\n",
       "    .dataframe thead th {\n",
       "        text-align: left;\n",
       "    }\n",
       "\n",
       "    .dataframe tbody tr th {\n",
       "        vertical-align: top;\n",
       "    }\n",
       "</style>\n",
       "<table border=\"1\" class=\"dataframe\">\n",
       "  <thead>\n",
       "    <tr style=\"text-align: right;\">\n",
       "      <th></th>\n",
       "      <th>dec</th>\n",
       "      <th>jan</th>\n",
       "      <th>feb</th>\n",
       "      <th>mar</th>\n",
       "      <th>avg</th>\n",
       "      <th>year</th>\n",
       "      <th>year_group</th>\n",
       "    </tr>\n",
       "    <tr>\n",
       "      <th>year</th>\n",
       "      <th></th>\n",
       "      <th></th>\n",
       "      <th></th>\n",
       "      <th></th>\n",
       "      <th></th>\n",
       "      <th></th>\n",
       "      <th></th>\n",
       "    </tr>\n",
       "  </thead>\n",
       "  <tbody>\n",
       "    <tr>\n",
       "      <th>1940-01-01</th>\n",
       "      <td>32.8</td>\n",
       "      <td>18.1</td>\n",
       "      <td>25.0</td>\n",
       "      <td>27.0</td>\n",
       "      <td>25.725</td>\n",
       "      <td>1940</td>\n",
       "      <td>1940 - 1959</td>\n",
       "    </tr>\n",
       "    <tr>\n",
       "      <th>1941-01-01</th>\n",
       "      <td>33.8</td>\n",
       "      <td>24.5</td>\n",
       "      <td>23.6</td>\n",
       "      <td>26.2</td>\n",
       "      <td>27.025</td>\n",
       "      <td>1941</td>\n",
       "      <td>1940 - 1959</td>\n",
       "    </tr>\n",
       "    <tr>\n",
       "      <th>1942-01-01</th>\n",
       "      <td>25.2</td>\n",
       "      <td>24.2</td>\n",
       "      <td>20.9</td>\n",
       "      <td>36.1</td>\n",
       "      <td>26.600</td>\n",
       "      <td>1942</td>\n",
       "      <td>1940 - 1959</td>\n",
       "    </tr>\n",
       "  </tbody>\n",
       "</table>\n",
       "</div>"
      ],
      "text/plain": [
       "             dec   jan   feb   mar     avg  year   year_group\n",
       "year                                                         \n",
       "1940-01-01  32.8  18.1  25.0  27.0  25.725  1940  1940 - 1959\n",
       "1941-01-01  33.8  24.5  23.6  26.2  27.025  1941  1940 - 1959\n",
       "1942-01-01  25.2  24.2  20.9  36.1  26.600  1942  1940 - 1959"
      ]
     },
     "execution_count": 159,
     "metadata": {},
     "output_type": "execute_result"
    }
   ],
   "source": [
    "winter_temps.head(3)"
   ]
  },
  {
   "cell_type": "code",
   "execution_count": 161,
   "metadata": {},
   "outputs": [
    {
     "data": {
      "image/png": "[encoded data removed]",
      "text/plain": [
       "<matplotlib.figure.Figure at 0x231601b6048>"
      ]
     },
     "metadata": {},
     "output_type": "display_data"
    }
   ],
   "source": [
    "sns.boxplot(x = 'year_group' , y='avg',data=winter_temps, linewidth = 1,palette = 'winter')\n",
    "plt.title('Average Yearly Winter Temperature \\n Over 20 Year Periods')\n",
    "plt.xticks(rotation=10)\n",
    "plt.ylabel('Avg. Winter Temp. (Degrees F)')\n",
    "plt.xlabel('')\n",
    "plt.show()"
   ]
  },
  {
   "cell_type": "code",
   "execution_count": 163,
   "metadata": {},
   "outputs": [
    {
     "data": {
      "image/png": "[encoded data removed]",
      "text/plain": [
       "<matplotlib.figure.Figure at 0x2315e1249e8>"
      ]
     },
     "metadata": {},
     "output_type": "display_data"
    }
   ],
   "source": [
    "sns.violinplot(x='year_group',y='avg',data = winter_temps, linewidth = 1, palette = 'winter',inner=None)\n",
    "\n",
    "sns.stripplot(x='year_group',y='avg',data = winter_temps ,size=4.25, jitter=True)\n",
    "\n",
    "plt.title('Average Yearly Winter Temperature \\n Over 20 Year Periods')\n",
    "plt.xlabel('')\n",
    "plt.xticks(rotation=10)\n",
    "plt.ylabel('Avg. Winter Temp. (Degrees F)')\n",
    "plt.show()"
   ]
  },
  {
   "cell_type": "code",
   "execution_count": 164,
   "metadata": {},
   "outputs": [
    {
     "data": {
      "text/html": [
       "<div>\n",
       "<style>\n",
       "    .dataframe thead tr:only-child th {\n",
       "        text-align: right;\n",
       "    }\n",
       "\n",
       "    .dataframe thead th {\n",
       "        text-align: left;\n",
       "    }\n",
       "\n",
       "    .dataframe tbody tr th {\n",
       "        vertical-align: top;\n",
       "    }\n",
       "</style>\n",
       "<table border=\"1\" class=\"dataframe\">\n",
       "  <thead>\n",
       "    <tr style=\"text-align: right;\">\n",
       "      <th></th>\n",
       "      <th>count</th>\n",
       "      <th>mean</th>\n",
       "      <th>std</th>\n",
       "      <th>min</th>\n",
       "      <th>25%</th>\n",
       "      <th>50%</th>\n",
       "      <th>75%</th>\n",
       "      <th>max</th>\n",
       "    </tr>\n",
       "    <tr>\n",
       "      <th>year_group</th>\n",
       "      <th></th>\n",
       "      <th></th>\n",
       "      <th></th>\n",
       "      <th></th>\n",
       "      <th></th>\n",
       "      <th></th>\n",
       "      <th></th>\n",
       "      <th></th>\n",
       "    </tr>\n",
       "  </thead>\n",
       "  <tbody>\n",
       "    <tr>\n",
       "      <th>1940 - 1959</th>\n",
       "      <td>20.0</td>\n",
       "      <td>28.716250</td>\n",
       "      <td>2.296368</td>\n",
       "      <td>25.575</td>\n",
       "      <td>27.325</td>\n",
       "      <td>27.8500</td>\n",
       "      <td>30.46875</td>\n",
       "      <td>33.300</td>\n",
       "    </tr>\n",
       "    <tr>\n",
       "      <th>1960 - 1979</th>\n",
       "      <td>20.0</td>\n",
       "      <td>26.996250</td>\n",
       "      <td>1.839502</td>\n",
       "      <td>23.625</td>\n",
       "      <td>25.675</td>\n",
       "      <td>27.1250</td>\n",
       "      <td>28.45000</td>\n",
       "      <td>30.475</td>\n",
       "    </tr>\n",
       "    <tr>\n",
       "      <th>1980 - 1999</th>\n",
       "      <td>20.0</td>\n",
       "      <td>29.062500</td>\n",
       "      <td>2.206055</td>\n",
       "      <td>26.025</td>\n",
       "      <td>27.525</td>\n",
       "      <td>29.0125</td>\n",
       "      <td>29.71875</td>\n",
       "      <td>34.250</td>\n",
       "    </tr>\n",
       "    <tr>\n",
       "      <th>2000 - present</th>\n",
       "      <td>18.0</td>\n",
       "      <td>29.165278</td>\n",
       "      <td>2.925762</td>\n",
       "      <td>25.000</td>\n",
       "      <td>27.425</td>\n",
       "      <td>28.6125</td>\n",
       "      <td>30.92500</td>\n",
       "      <td>36.425</td>\n",
       "    </tr>\n",
       "  </tbody>\n",
       "</table>\n",
       "</div>"
      ],
      "text/plain": [
       "                count       mean       std     min     25%      50%       75%  \\\n",
       "year_group                                                                      \n",
       "1940 - 1959      20.0  28.716250  2.296368  25.575  27.325  27.8500  30.46875   \n",
       "1960 - 1979      20.0  26.996250  1.839502  23.625  25.675  27.1250  28.45000   \n",
       "1980 - 1999      20.0  29.062500  2.206055  26.025  27.525  29.0125  29.71875   \n",
       "2000 - present   18.0  29.165278  2.925762  25.000  27.425  28.6125  30.92500   \n",
       "\n",
       "                   max  \n",
       "year_group              \n",
       "1940 - 1959     33.300  \n",
       "1960 - 1979     30.475  \n",
       "1980 - 1999     34.250  \n",
       "2000 - present  36.425  "
      ]
     },
     "execution_count": 164,
     "metadata": {},
     "output_type": "execute_result"
    }
   ],
   "source": [
    "winter_temps.groupby('year_group')['avg'].describe()"
   ]
  },
  {
   "cell_type": "markdown",
   "metadata": {},
   "source": [
    "#### Conclusions"
   ]
  },
  {
   "cell_type": "markdown",
   "metadata": {},
   "source": [
    "From a brief look at average winter temperatures over 20 year periods, there seems to be a slight increase in the mean average winter temperature and a slight increase in the median average winter temperature, but the increases are not as large as they are seen with the summer temperatures. "
   ]
  },
  {
   "cell_type": "markdown",
   "metadata": {},
   "source": [
    "## Final Conclusions"
   ]
  },
  {
   "cell_type": "markdown",
   "metadata": {
    "collapsed": true
   },
   "source": [
    "- Snowfall amounts have not changed, seem to fluctuate. Is there a pattern to this? \n",
    "- Average summer and average winter temperatures seem to be slowly increasing throughout the years, but not at the same rate. Are these increases significant? Is there a relationship between average summer and winter temperatures?"
   ]
  }
 ],
 "metadata": {
  "kernelspec": {
   "display_name": "Python [conda root]",
   "language": "python",
   "name": "conda-root-py"
  },
  "language_info": {
   "codemirror_mode": {
    "name": "ipython",
    "version": 3
   },
   "file_extension": ".py",
   "mimetype": "text/x-python",
   "name": "python",
   "nbconvert_exporter": "python",
   "pygments_lexer": "ipython3",
   "version": "3.6.2"
  }
 },
 "nbformat": 4,
 "nbformat_minor": 2
}
